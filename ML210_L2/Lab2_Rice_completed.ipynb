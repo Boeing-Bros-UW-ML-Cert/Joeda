{
 "cells": [
  {
   "cell_type": "markdown",
   "metadata": {},
   "source": [
    "## <h1>Lesson 2. Regression analysis: How Much Is Your Car Worth?</h1>"
   ]
  },
  {
   "cell_type": "markdown",
   "metadata": {},
   "source": [
    "<img src=\"https://upload.wikimedia.org/wikipedia/commons/thumb/7/72/Kelley_Blue_Book_Vertical.JPG/152px-Kelley_Blue_Book_Vertical.JPG\" style=\"height:200px;\">\n",
    "  \n",
    "  <p>This exercise will use data collected from <a href=\"https://www.kbb.com/\">Kelly Blue Book</a> for 2005 for used General Motors (GM) cars. The overall goal is to predict the suggested retail price of the car (<a href=\"http://ww2.amstat.org/publications/jse/jse_data_archive.htm\">Kuiper (2008), JSE</a>).</p>\n",
    "\n",
    "<p>The following features are available for this dataset:</p>\n",
    "<ul>\n",
    "<li>Price: Suggested retail price of the used 2005 GM car</li>\n",
    "<li>Mileage: Car mileage</li>\n",
    "<li>Cylinder: Number of cylinders in the engine</li>\n",
    "<li>Doors: Number of doors</li>\n",
    "<li>Cruise: Does it have cruise control</li>\n",
    "<li>Sound: Does it have upgraded sound?</li>\n",
    "<li>Leather: Does it have leather seats?</li>\n",
    "<li>Make columns (indicator variables):\n",
    "    <ul>\n",
    "        <li>Buick</li>\n",
    "        <li>Cadillac</li>\n",
    "        <li>Chevy</li>\n",
    "        <li>Pontiac</li>\n",
    "        <li>Saab</li>\n",
    "        <li>...</li>\n",
    "    </ul>\n",
    "</li>\n",
    "<li>Body Type columns (indicator variables):\n",
    "    <ul>\n",
    "        <li>convertible</li>\n",
    "        <li>coupe</li>\n",
    "        <li>hatchback</li>\n",
    "        <li>sedan</li>\n",
    "        <li>...</li>\n",
    "    </ul>\n",
    "</li>\n",
    "</ul>\n"
   ]
  },
  {
   "cell_type": "code",
   "execution_count": 1,
   "metadata": {},
   "outputs": [
    {
     "data": {
      "text/html": [
       "<div>\n",
       "<style>\n",
       "    .dataframe thead tr:only-child th {\n",
       "        text-align: right;\n",
       "    }\n",
       "\n",
       "    .dataframe thead th {\n",
       "        text-align: left;\n",
       "    }\n",
       "\n",
       "    .dataframe tbody tr th {\n",
       "        vertical-align: top;\n",
       "    }\n",
       "</style>\n",
       "<table border=\"1\" class=\"dataframe\">\n",
       "  <thead>\n",
       "    <tr style=\"text-align: right;\">\n",
       "      <th></th>\n",
       "      <th>Price</th>\n",
       "      <th>Mileage</th>\n",
       "      <th>Cylinder</th>\n",
       "      <th>Doors</th>\n",
       "      <th>Cruise</th>\n",
       "      <th>Sound</th>\n",
       "      <th>Leather</th>\n",
       "      <th>Buick</th>\n",
       "      <th>Cadillac</th>\n",
       "      <th>Chevy</th>\n",
       "      <th>Pontiac</th>\n",
       "      <th>Saab</th>\n",
       "      <th>Saturn</th>\n",
       "      <th>convertible</th>\n",
       "      <th>coupe</th>\n",
       "      <th>hatchback</th>\n",
       "      <th>sedan</th>\n",
       "      <th>wagon</th>\n",
       "    </tr>\n",
       "  </thead>\n",
       "  <tbody>\n",
       "    <tr>\n",
       "      <th>0</th>\n",
       "      <td>22661.05</td>\n",
       "      <td>20105</td>\n",
       "      <td>6</td>\n",
       "      <td>4</td>\n",
       "      <td>1</td>\n",
       "      <td>0</td>\n",
       "      <td>0</td>\n",
       "      <td>1</td>\n",
       "      <td>0</td>\n",
       "      <td>0</td>\n",
       "      <td>0</td>\n",
       "      <td>0</td>\n",
       "      <td>0</td>\n",
       "      <td>0</td>\n",
       "      <td>0</td>\n",
       "      <td>0</td>\n",
       "      <td>1</td>\n",
       "      <td>0</td>\n",
       "    </tr>\n",
       "    <tr>\n",
       "      <th>1</th>\n",
       "      <td>21725.01</td>\n",
       "      <td>13457</td>\n",
       "      <td>6</td>\n",
       "      <td>2</td>\n",
       "      <td>1</td>\n",
       "      <td>1</td>\n",
       "      <td>0</td>\n",
       "      <td>0</td>\n",
       "      <td>0</td>\n",
       "      <td>1</td>\n",
       "      <td>0</td>\n",
       "      <td>0</td>\n",
       "      <td>0</td>\n",
       "      <td>0</td>\n",
       "      <td>1</td>\n",
       "      <td>0</td>\n",
       "      <td>0</td>\n",
       "      <td>0</td>\n",
       "    </tr>\n",
       "    <tr>\n",
       "      <th>2</th>\n",
       "      <td>29142.71</td>\n",
       "      <td>31655</td>\n",
       "      <td>4</td>\n",
       "      <td>2</td>\n",
       "      <td>1</td>\n",
       "      <td>1</td>\n",
       "      <td>1</td>\n",
       "      <td>0</td>\n",
       "      <td>0</td>\n",
       "      <td>0</td>\n",
       "      <td>0</td>\n",
       "      <td>1</td>\n",
       "      <td>0</td>\n",
       "      <td>1</td>\n",
       "      <td>0</td>\n",
       "      <td>0</td>\n",
       "      <td>0</td>\n",
       "      <td>0</td>\n",
       "    </tr>\n",
       "    <tr>\n",
       "      <th>3</th>\n",
       "      <td>30731.94</td>\n",
       "      <td>22479</td>\n",
       "      <td>4</td>\n",
       "      <td>2</td>\n",
       "      <td>1</td>\n",
       "      <td>0</td>\n",
       "      <td>0</td>\n",
       "      <td>0</td>\n",
       "      <td>0</td>\n",
       "      <td>0</td>\n",
       "      <td>0</td>\n",
       "      <td>1</td>\n",
       "      <td>0</td>\n",
       "      <td>1</td>\n",
       "      <td>0</td>\n",
       "      <td>0</td>\n",
       "      <td>0</td>\n",
       "      <td>0</td>\n",
       "    </tr>\n",
       "    <tr>\n",
       "      <th>4</th>\n",
       "      <td>33358.77</td>\n",
       "      <td>17590</td>\n",
       "      <td>4</td>\n",
       "      <td>2</td>\n",
       "      <td>1</td>\n",
       "      <td>1</td>\n",
       "      <td>1</td>\n",
       "      <td>0</td>\n",
       "      <td>0</td>\n",
       "      <td>0</td>\n",
       "      <td>0</td>\n",
       "      <td>1</td>\n",
       "      <td>0</td>\n",
       "      <td>1</td>\n",
       "      <td>0</td>\n",
       "      <td>0</td>\n",
       "      <td>0</td>\n",
       "      <td>0</td>\n",
       "    </tr>\n",
       "  </tbody>\n",
       "</table>\n",
       "</div>"
      ],
      "text/plain": [
       "      Price  Mileage  Cylinder  Doors  Cruise  Sound  Leather  Buick  \\\n",
       "0  22661.05    20105         6      4       1      0        0      1   \n",
       "1  21725.01    13457         6      2       1      1        0      0   \n",
       "2  29142.71    31655         4      2       1      1        1      0   \n",
       "3  30731.94    22479         4      2       1      0        0      0   \n",
       "4  33358.77    17590         4      2       1      1        1      0   \n",
       "\n",
       "   Cadillac  Chevy  Pontiac  Saab  Saturn  convertible  coupe  hatchback  \\\n",
       "0         0      0        0     0       0            0      0          0   \n",
       "1         0      1        0     0       0            0      1          0   \n",
       "2         0      0        0     1       0            1      0          0   \n",
       "3         0      0        0     1       0            1      0          0   \n",
       "4         0      0        0     1       0            1      0          0   \n",
       "\n",
       "   sedan  wagon  \n",
       "0      1      0  \n",
       "1      0      0  \n",
       "2      0      0  \n",
       "3      0      0  \n",
       "4      0      0  "
      ]
     },
     "execution_count": 1,
     "metadata": {},
     "output_type": "execute_result"
    }
   ],
   "source": [
    "import pandas as pd\n",
    "\n",
    "cars = pd.read_csv('cars.csv')\n",
    "cars.head()"
   ]
  },
  {
   "cell_type": "code",
   "execution_count": 2,
   "metadata": {},
   "outputs": [
    {
     "name": "stdout",
     "output_type": "stream",
     "text": [
      "<class 'pandas.core.frame.DataFrame'>\n",
      "RangeIndex: 804 entries, 0 to 803\n",
      "Data columns (total 18 columns):\n",
      "Price          804 non-null float64\n",
      "Mileage        804 non-null int64\n",
      "Cylinder       804 non-null int64\n",
      "Doors          804 non-null int64\n",
      "Cruise         804 non-null int64\n",
      "Sound          804 non-null int64\n",
      "Leather        804 non-null int64\n",
      "Buick          804 non-null int64\n",
      "Cadillac       804 non-null int64\n",
      "Chevy          804 non-null int64\n",
      "Pontiac        804 non-null int64\n",
      "Saab           804 non-null int64\n",
      "Saturn         804 non-null int64\n",
      "convertible    804 non-null int64\n",
      "coupe          804 non-null int64\n",
      "hatchback      804 non-null int64\n",
      "sedan          804 non-null int64\n",
      "wagon          804 non-null int64\n",
      "dtypes: float64(1), int64(17)\n",
      "memory usage: 113.1 KB\n"
     ]
    }
   ],
   "source": [
    "cars.info()"
   ]
  },
  {
   "cell_type": "code",
   "execution_count": 3,
   "metadata": {
    "collapsed": true
   },
   "outputs": [],
   "source": [
    "import matplotlib.pyplot as plt\n",
    "from scipy import stats"
   ]
  },
  {
   "cell_type": "markdown",
   "metadata": {},
   "source": [
    "<h3>Q.1. Plot Price vs. Mileage. From the plot, does it seem like cars with more mileage are worth less?</h3>\n",
    "\n",
    "<i> There may be a weak association betwen price and mileage, but there is a lot of noise \n",
    "</i>"
   ]
  },
  {
   "cell_type": "code",
   "execution_count": 4,
   "metadata": {},
   "outputs": [
    {
     "data": {
      "image/png": "[encoded data removed]",
      "text/plain": [
       "<matplotlib.figure.Figure at 0x1b52999b080>"
      ]
     },
     "metadata": {},
     "output_type": "display_data"
    }
   ],
   "source": [
    "# Put the command (or commands) here that would give answer to the above question.\n",
    "plt.scatter(cars[\"Mileage\"],cars[\"Price\"])\n",
    "plt.xlabel(\"Mileage\")\n",
    "plt.ylabel(\"Price\")\n",
    "plt.show()"
   ]
  },
  {
   "cell_type": "markdown",
   "metadata": {},
   "source": [
    "<h3>Q.2. Develop a simple linear regression model, relating price with mileage only. Show summary statistics for the model.</h3> "
   ]
  },
  {
   "cell_type": "code",
   "execution_count": 5,
   "metadata": {},
   "outputs": [
    {
     "name": "stdout",
     "output_type": "stream",
     "text": [
      "slope = -0.172520502602\n",
      "intercept = 24764.5589912\n",
      "r squared = 0.0204634472856\n",
      "p value = 4.68469803152e-05\n",
      "standard error = 0.0421477558344\n"
     ]
    }
   ],
   "source": [
    "# Linear regression model:\n",
    "slope, intercept, r_value, p_value, std_err = stats.linregress(cars[\"Mileage\"],cars[\"Price\"])\n",
    "# Show summary statistics for the model:\n",
    "print(\"slope = \"+str(slope))\n",
    "print(\"intercept = \"+str(intercept))\n",
    "print(\"r squared = \"+str(r_value**2))\n",
    "print(\"p value = \"+str(p_value))\n",
    "print(\"standard error = \"+str(std_err))"
   ]
  },
  {
   "cell_type": "markdown",
   "metadata": {},
   "source": [
    "<h3>Q.3. What happens to price when there is one more mile on the car?</h3>\n",
    "\n",
    "<i> According to this fit, for every mile accumulated, the car's value depreciates by about 17 cents.  After 1000 miles, the car would be expected to depreciate by about $173 (per the slope shown in Q2)</i>"
   ]
  },
  {
   "cell_type": "markdown",
   "metadata": {},
   "source": [
    "<h3>Q.4. What is the expected value of a car with 0 miles according to your model?</h3>\n",
    "\n",
    "<i>A car with no miles is equivalent to the intercept (shown in Q2), which is about $24,765</i>"
   ]
  },
  {
   "cell_type": "markdown",
   "metadata": {},
   "source": [
    "<h3>Q.5. Plot residuals of the model vs. fitted values. Are there any problems that you see with the model?</h3>\n",
    "\n",
    "<i>Error terms are supposed to be random and presumed to be normally distributed around 0.  The error is here is assymetric\n",
    "and not distributed around 0.  Error is supposed to be independent, but as we see, error appears to grow with the mileage estimate, which is not consistent with independent error.\n",
    "</i>"
   ]
  },
  {
   "cell_type": "code",
   "execution_count": 6,
   "metadata": {},
   "outputs": [
    {
     "data": {
      "image/png": "[encoded data removed]",
      "text/plain": [
       "<matplotlib.figure.Figure at 0x1b529b72588>"
      ]
     },
     "metadata": {},
     "output_type": "display_data"
    },
    {
     "data": {
      "image/png": "[encoded data removed]",
      "text/plain": [
       "<matplotlib.figure.Figure at 0x1b529b8d240>"
      ]
     },
     "metadata": {},
     "output_type": "display_data"
    },
    {
     "data": {
      "image/png": "[encoded data removed]",
      "text/plain": [
       "<matplotlib.figure.Figure at 0x1b529b8d940>"
      ]
     },
     "metadata": {},
     "output_type": "display_data"
    }
   ],
   "source": [
    "# Plot residuals\n",
    "def predict(x):\n",
    "    return slope*x + intercept\n",
    "\n",
    "residuals = cars[\"Price\"] - predict(cars[\"Mileage\"])\n",
    "plt.plot(residuals,\"bo\")\n",
    "plt.xlabel(\"observation\")\n",
    "plt.ylabel(\"residual\")\n",
    "plt.show()\n",
    "\n",
    "plt.scatter(slope*cars[\"Mileage\"] +intercept,residuals,marker = \"o\")\n",
    "plt.xlabel(\"mileage\")\n",
    "plt.ylabel(\"residual\")\n",
    "plt.show()\n",
    "\n",
    "plt.clf()\n",
    "plt.scatter(cars[\"Price\"],residuals,marker = \"o\")\n",
    "plt.xlabel(\"actual\")\n",
    "plt.ylabel(\"residual\")\n",
    "plt.show()\n"
   ]
  },
  {
   "cell_type": "code",
   "execution_count": 7,
   "metadata": {},
   "outputs": [
    {
     "name": "stderr",
     "output_type": "stream",
     "text": [
      "C:\\Users\\Joe\\Anaconda3\\lib\\site-packages\\statsmodels\\compat\\pandas.py:56: FutureWarning: The pandas.core.datetools module is deprecated and will be removed in a future version. Please use the pandas.tseries module instead.\n",
      "  from pandas.core import datetools\n"
     ]
    }
   ],
   "source": [
    "import statsmodels.api as sm\n",
    "from sklearn.preprocessing import StandardScaler\n",
    "scale = StandardScaler()"
   ]
  },
  {
   "cell_type": "markdown",
   "metadata": {},
   "source": [
    "<h3>Q.6. Develop a model that predicts the Price from Mileage, Cylinder, Doors, Cruise, Sound, Leather data. Is this model more accurate - explain why (1-2 sentence). </h3>\n",
    "\n",
    "<i> Per R<sup>2</sup>, this model is a much better one than the previous one.  Intuitively, it makes sense that there are more factors than just mileage that would affect price and options usually considered to be upgrades, like cruise, leather, and cylinders appear to have a positive contribution to the expected price.  \n",
    "</i>"
   ]
  },
  {
   "cell_type": "code",
   "execution_count": 8,
   "metadata": {},
   "outputs": [
    {
     "data": {
      "text/html": [
       "<table class=\"simpletable\">\n",
       "<caption>OLS Regression Results</caption>\n",
       "<tr>\n",
       "  <th>Dep. Variable:</th>          <td>Price</td>      <th>  R-squared:         </th> <td>   0.900</td> \n",
       "</tr>\n",
       "<tr>\n",
       "  <th>Model:</th>                   <td>OLS</td>       <th>  Adj. R-squared:    </th> <td>   0.899</td> \n",
       "</tr>\n",
       "<tr>\n",
       "  <th>Method:</th>             <td>Least Squares</td>  <th>  F-statistic:       </th> <td>   1198.</td> \n",
       "</tr>\n",
       "<tr>\n",
       "  <th>Date:</th>             <td>Wed, 17 Oct 2018</td> <th>  Prob (F-statistic):</th>  <td>  0.00</td>  \n",
       "</tr>\n",
       "<tr>\n",
       "  <th>Time:</th>                 <td>20:05:20</td>     <th>  Log-Likelihood:    </th> <td> -8307.5</td> \n",
       "</tr>\n",
       "<tr>\n",
       "  <th>No. Observations:</th>      <td>   804</td>      <th>  AIC:               </th> <td>1.663e+04</td>\n",
       "</tr>\n",
       "<tr>\n",
       "  <th>Df Residuals:</th>          <td>   798</td>      <th>  BIC:               </th> <td>1.666e+04</td>\n",
       "</tr>\n",
       "<tr>\n",
       "  <th>Df Model:</th>              <td>     6</td>      <th>                     </th>     <td> </td>    \n",
       "</tr>\n",
       "<tr>\n",
       "  <th>Covariance Type:</th>      <td>nonrobust</td>    <th>                     </th>     <td> </td>    \n",
       "</tr>\n",
       "</table>\n",
       "<table class=\"simpletable\">\n",
       "<tr>\n",
       "      <td></td>        <th>coef</th>     <th>std err</th>      <th>t</th>      <th>P>|t|</th>  <th>[0.025</th>    <th>0.975]</th>  \n",
       "</tr>\n",
       "<tr>\n",
       "  <th>Mileage</th>  <td>   -0.1196</td> <td>    0.030</td> <td>   -4.030</td> <td> 0.000</td> <td>   -0.178</td> <td>   -0.061</td>\n",
       "</tr>\n",
       "<tr>\n",
       "  <th>Cylinder</th> <td> 3615.2074</td> <td>  178.201</td> <td>   20.287</td> <td> 0.000</td> <td> 3265.409</td> <td> 3965.006</td>\n",
       "</tr>\n",
       "<tr>\n",
       "  <th>Doors</th>    <td> -635.4939</td> <td>  236.775</td> <td>   -2.684</td> <td> 0.007</td> <td>-1100.270</td> <td> -170.718</td>\n",
       "</tr>\n",
       "<tr>\n",
       "  <th>Cruise</th>   <td> 6528.7484</td> <td>  653.250</td> <td>    9.994</td> <td> 0.000</td> <td> 5246.457</td> <td> 7811.040</td>\n",
       "</tr>\n",
       "<tr>\n",
       "  <th>Sound</th>    <td>-1350.7612</td> <td>  552.468</td> <td>   -2.445</td> <td> 0.015</td> <td>-2435.224</td> <td> -266.298</td>\n",
       "</tr>\n",
       "<tr>\n",
       "  <th>Leather</th>  <td> 3806.1630</td> <td>  591.652</td> <td>    6.433</td> <td> 0.000</td> <td> 2644.786</td> <td> 4967.540</td>\n",
       "</tr>\n",
       "</table>\n",
       "<table class=\"simpletable\">\n",
       "<tr>\n",
       "  <th>Omnibus:</th>       <td>148.684</td> <th>  Durbin-Watson:     </th> <td>   0.520</td>\n",
       "</tr>\n",
       "<tr>\n",
       "  <th>Prob(Omnibus):</th> <td> 0.000</td>  <th>  Jarque-Bera (JB):  </th> <td> 265.645</td>\n",
       "</tr>\n",
       "<tr>\n",
       "  <th>Skew:</th>          <td> 1.114</td>  <th>  Prob(JB):          </th> <td>2.07e-58</td>\n",
       "</tr>\n",
       "<tr>\n",
       "  <th>Kurtosis:</th>      <td> 4.723</td>  <th>  Cond. No.          </th> <td>5.47e+04</td>\n",
       "</tr>\n",
       "</table>"
      ],
      "text/plain": [
       "<class 'statsmodels.iolib.summary.Summary'>\n",
       "\"\"\"\n",
       "                            OLS Regression Results                            \n",
       "==============================================================================\n",
       "Dep. Variable:                  Price   R-squared:                       0.900\n",
       "Model:                            OLS   Adj. R-squared:                  0.899\n",
       "Method:                 Least Squares   F-statistic:                     1198.\n",
       "Date:                Wed, 17 Oct 2018   Prob (F-statistic):               0.00\n",
       "Time:                        20:05:20   Log-Likelihood:                -8307.5\n",
       "No. Observations:                 804   AIC:                         1.663e+04\n",
       "Df Residuals:                     798   BIC:                         1.666e+04\n",
       "Df Model:                           6                                         \n",
       "Covariance Type:            nonrobust                                         \n",
       "==============================================================================\n",
       "                 coef    std err          t      P>|t|      [0.025      0.975]\n",
       "------------------------------------------------------------------------------\n",
       "Mileage       -0.1196      0.030     -4.030      0.000      -0.178      -0.061\n",
       "Cylinder    3615.2074    178.201     20.287      0.000    3265.409    3965.006\n",
       "Doors       -635.4939    236.775     -2.684      0.007   -1100.270    -170.718\n",
       "Cruise      6528.7484    653.250      9.994      0.000    5246.457    7811.040\n",
       "Sound      -1350.7612    552.468     -2.445      0.015   -2435.224    -266.298\n",
       "Leather     3806.1630    591.652      6.433      0.000    2644.786    4967.540\n",
       "==============================================================================\n",
       "Omnibus:                      148.684   Durbin-Watson:                   0.520\n",
       "Prob(Omnibus):                  0.000   Jarque-Bera (JB):              265.645\n",
       "Skew:                           1.114   Prob(JB):                     2.07e-58\n",
       "Kurtosis:                       4.723   Cond. No.                     5.47e+04\n",
       "==============================================================================\n",
       "\n",
       "Warnings:\n",
       "[1] Standard Errors assume that the covariance matrix of the errors is correctly specified.\n",
       "[2] The condition number is large, 5.47e+04. This might indicate that there are\n",
       "strong multicollinearity or other numerical problems.\n",
       "\"\"\""
      ]
     },
     "execution_count": 8,
     "metadata": {},
     "output_type": "execute_result"
    }
   ],
   "source": [
    "# Commands:\n",
    "featureNames = [\"Mileage\",\"Cylinder\",\"Doors\",\"Cruise\",\"Sound\",\"Leather\"]\n",
    "features = cars[featureNames]\n",
    "labels = cars[\"Price\"]\n",
    "\n",
    "features.head()\n",
    "\n",
    "model = sm.OLS(labels,features).fit()\n",
    "model.summary()"
   ]
  },
  {
   "cell_type": "markdown",
   "metadata": {},
   "source": [
    "<h3>Q.7. Are any of the features in the above model highly colinear to the point where they impact the model quality?</h3>\n",
    "\n",
    "<i>The largest, absolute value or correlation is .35, which is not very high.  As such, it is unlikely the colinearity is sufficient to have a notable effect on the model's quality. \n",
    "</i>"
   ]
  },
  {
   "cell_type": "code",
   "execution_count": 9,
   "metadata": {},
   "outputs": [
    {
     "data": {
      "text/html": [
       "<div>\n",
       "<style>\n",
       "    .dataframe thead tr:only-child th {\n",
       "        text-align: right;\n",
       "    }\n",
       "\n",
       "    .dataframe thead th {\n",
       "        text-align: left;\n",
       "    }\n",
       "\n",
       "    .dataframe tbody tr th {\n",
       "        vertical-align: top;\n",
       "    }\n",
       "</style>\n",
       "<table border=\"1\" class=\"dataframe\">\n",
       "  <thead>\n",
       "    <tr style=\"text-align: right;\">\n",
       "      <th></th>\n",
       "      <th>Mileage</th>\n",
       "      <th>Cylinder</th>\n",
       "      <th>Doors</th>\n",
       "      <th>Cruise</th>\n",
       "      <th>Sound</th>\n",
       "      <th>Leather</th>\n",
       "    </tr>\n",
       "  </thead>\n",
       "  <tbody>\n",
       "    <tr>\n",
       "      <th>Mileage</th>\n",
       "      <td>1.000000</td>\n",
       "      <td>-0.029461</td>\n",
       "      <td>-0.016944</td>\n",
       "      <td>0.025037</td>\n",
       "      <td>-0.026146</td>\n",
       "      <td>0.001005</td>\n",
       "    </tr>\n",
       "    <tr>\n",
       "      <th>Cylinder</th>\n",
       "      <td>-0.029461</td>\n",
       "      <td>1.000000</td>\n",
       "      <td>0.002206</td>\n",
       "      <td>0.354285</td>\n",
       "      <td>-0.089704</td>\n",
       "      <td>0.075520</td>\n",
       "    </tr>\n",
       "    <tr>\n",
       "      <th>Doors</th>\n",
       "      <td>-0.016944</td>\n",
       "      <td>0.002206</td>\n",
       "      <td>1.000000</td>\n",
       "      <td>-0.047674</td>\n",
       "      <td>-0.062530</td>\n",
       "      <td>-0.061969</td>\n",
       "    </tr>\n",
       "    <tr>\n",
       "      <th>Cruise</th>\n",
       "      <td>0.025037</td>\n",
       "      <td>0.354285</td>\n",
       "      <td>-0.047674</td>\n",
       "      <td>1.000000</td>\n",
       "      <td>-0.091730</td>\n",
       "      <td>-0.070573</td>\n",
       "    </tr>\n",
       "    <tr>\n",
       "      <th>Sound</th>\n",
       "      <td>-0.026146</td>\n",
       "      <td>-0.089704</td>\n",
       "      <td>-0.062530</td>\n",
       "      <td>-0.091730</td>\n",
       "      <td>1.000000</td>\n",
       "      <td>0.165444</td>\n",
       "    </tr>\n",
       "    <tr>\n",
       "      <th>Leather</th>\n",
       "      <td>0.001005</td>\n",
       "      <td>0.075520</td>\n",
       "      <td>-0.061969</td>\n",
       "      <td>-0.070573</td>\n",
       "      <td>0.165444</td>\n",
       "      <td>1.000000</td>\n",
       "    </tr>\n",
       "  </tbody>\n",
       "</table>\n",
       "</div>"
      ],
      "text/plain": [
       "           Mileage  Cylinder     Doors    Cruise     Sound   Leather\n",
       "Mileage   1.000000 -0.029461 -0.016944  0.025037 -0.026146  0.001005\n",
       "Cylinder -0.029461  1.000000  0.002206  0.354285 -0.089704  0.075520\n",
       "Doors    -0.016944  0.002206  1.000000 -0.047674 -0.062530 -0.061969\n",
       "Cruise    0.025037  0.354285 -0.047674  1.000000 -0.091730 -0.070573\n",
       "Sound    -0.026146 -0.089704 -0.062530 -0.091730  1.000000  0.165444\n",
       "Leather   0.001005  0.075520 -0.061969 -0.070573  0.165444  1.000000"
      ]
     },
     "execution_count": 9,
     "metadata": {},
     "output_type": "execute_result"
    }
   ],
   "source": [
    "# Command(s):\n",
    "cars[featureNames].corr()"
   ]
  },
  {
   "cell_type": "markdown",
   "metadata": {},
   "source": [
    "<h3>Q.8. What is the expected price for the Chevy sedan described in variable 'chevy', shown below?</h3>\n",
    "\n",
    "<i>The predicted price for the Chevy below is about $18,586.\n",
    "</i>"
   ]
  },
  {
   "cell_type": "code",
   "execution_count": 10,
   "metadata": {},
   "outputs": [
    {
     "data": {
      "text/plain": [
       "0    18586.249852\n",
       "dtype: float64"
      ]
     },
     "execution_count": 10,
     "metadata": {},
     "output_type": "execute_result"
    }
   ],
   "source": [
    "chevy = {\"Mileage\":30000, \"Cylinder\":4, \"Doors\":2, \"Cruise\":1, \"Sound\":1, \"Leather\":1}\n",
    "chevy = pd.DataFrame(chevy,index=[0])[featureNames]\n",
    "model.predict(chevy)\n",
    "# Commands that estimate the price of 'chevy' using the model with 6 predictors\n"
   ]
  },
  {
   "cell_type": "markdown",
   "metadata": {},
   "source": [
    "<h3>Q.9. What is the expected price for the Chevy mentioned above if you include all features in the prediction? Can you comment on any problems you encounter when doing this prediction?</h3>\n",
    "\n",
    "<i>\n",
    "The expected price for the \"new Chevy\" is about $7520, interestingly much less than the model that had less features.  \n",
    "\n",
    "There are several issues:\n",
    "<ul>\n",
    "<li>We do not know what the other features are, so I choose them here</li>\n",
    "<li>It is possible that desireability is different among makes and models, thus it may not be a good assumption to lump those all together</li>\n",
    "<li>It is possible that there are options that correspond with each other; as such there may be colinearity that was not present before.  If this is the case, the model should be adjusted.</li>\n",
    "<li>By adding many additional features, we may need more training data to better have better performance.</li>\n",
    "<li>Also, we so many additional factors that are binary, the need for scaling may be higher. </li>\n",
    "</ul>\n",
    "</i>"
   ]
  },
  {
   "cell_type": "code",
   "execution_count": 11,
   "metadata": {},
   "outputs": [
    {
     "name": "stdout",
     "output_type": "stream",
     "text": [
      "                            OLS Regression Results                            \n",
      "==============================================================================\n",
      "Dep. Variable:                  Price   R-squared:                       0.915\n",
      "Model:                            OLS   Adj. R-squared:                  0.914\n",
      "Method:                 Least Squares   F-statistic:                     607.2\n",
      "Date:                Wed, 17 Oct 2018   Prob (F-statistic):               0.00\n",
      "Time:                        20:05:20   Log-Likelihood:                -7544.8\n",
      "No. Observations:                 804   AIC:                         1.512e+04\n",
      "Df Residuals:                     789   BIC:                         1.519e+04\n",
      "Df Model:                          14                                         \n",
      "Covariance Type:            nonrobust                                         \n",
      "===============================================================================\n",
      "                  coef    std err          t      P>|t|      [0.025      0.975]\n",
      "-------------------------------------------------------------------------------\n",
      "Mileage        -0.1842      0.013    -14.664      0.000      -0.209      -0.160\n",
      "Cylinder     3659.4543    113.345     32.286      0.000    3436.961    3881.947\n",
      "Doors        1654.6326    174.525      9.481      0.000    1312.044    1997.221\n",
      "Cruise        340.8695    295.962      1.152      0.250    -240.096     921.835\n",
      "Sound         440.9169    234.484      1.880      0.060     -19.370     901.204\n",
      "Leather       790.8220    249.745      3.167      0.002     300.579    1281.065\n",
      "Buick       -1911.3752    336.292     -5.684      0.000   -2571.507   -1251.243\n",
      "Cadillac      1.05e+04    409.274     25.663      0.000    9699.900    1.13e+04\n",
      "Chevy       -3408.2863    213.274    -15.981      0.000   -3826.937   -2989.635\n",
      "Pontiac     -4258.9628    256.358    -16.613      0.000   -4762.188   -3755.737\n",
      "Saab         9419.1227    331.211     28.438      0.000    8768.963    1.01e+04\n",
      "Saturn      -2859.0803    358.709     -7.970      0.000   -3563.218   -2154.943\n",
      "convertible  1.258e+04    525.984     23.922      0.000    1.15e+04    1.36e+04\n",
      "coupe        1559.7620    395.946      3.939      0.000     782.531    2336.993\n",
      "hatchback   -4977.3196    339.046    -14.680      0.000   -5642.858   -4311.782\n",
      "sedan       -3064.7176    215.007    -14.254      0.000   -3486.771   -2642.665\n",
      "wagon        1384.6400    364.920      3.794      0.000     668.311    2100.969\n",
      "==============================================================================\n",
      "Omnibus:                       68.748   Durbin-Watson:                   0.700\n",
      "Prob(Omnibus):                  0.000   Jarque-Bera (JB):              221.096\n",
      "Skew:                           0.376   Prob(JB):                     9.76e-49\n",
      "Kurtosis:                       5.457   Cond. No.                     1.10e+20\n",
      "==============================================================================\n",
      "\n",
      "Warnings:\n",
      "[1] Standard Errors assume that the covariance matrix of the errors is correctly specified.\n",
      "[2] The smallest eigenvalue is 3.03e-29. This might indicate that there are\n",
      "strong multicollinearity problems or that the design matrix is singular.\n"
     ]
    },
    {
     "data": {
      "text/plain": [
       "0    7520.459311\n",
       "dtype: float64"
      ]
     },
     "execution_count": 11,
     "metadata": {},
     "output_type": "execute_result"
    }
   ],
   "source": [
    "newChevy = {\"Mileage\":30000, \"Cylinder\":4, \"Doors\":2, \"Cruise\":1, \"Sound\":1, \"Leather\":1\n",
    "            , \"Buick\":0, \"Cadillac\":0, \"Chevy\":1, \"Pontiac\":0, \"Saab\":0, \"Saturn\":0 \n",
    "            , \"convertible\":0, \"coupe\":0, \"hatchback\":0, \"sedan\":1, \"wagon\":0\n",
    "           }\n",
    "\n",
    "# Commands:\n",
    "featureNames = cars.columns[1:]\n",
    "features = cars[featureNames]\n",
    "labels = cars[\"Price\"]\n",
    "\n",
    "features.head()\n",
    "\n",
    "modelNew = sm.OLS(labels,features).fit()\n",
    "print(modelNew.summary())\n",
    "\n",
    "newChevy = pd.DataFrame(newChevy,index=[0])[featureNames]\n",
    "modelNew.predict(newChevy)\n"
   ]
  },
  {
   "cell_type": "code",
   "execution_count": null,
   "metadata": {
    "collapsed": true
   },
   "outputs": [],
   "source": []
  }
 ],
 "metadata": {
  "kernelspec": {
   "display_name": "Python 3",
   "language": "python",
   "name": "python3"
  },
  "language_info": {
   "codemirror_mode": {
    "name": "ipython",
    "version": 3
   },
   "file_extension": ".py",
   "mimetype": "text/x-python",
   "name": "python",
   "nbconvert_exporter": "python",
   "pygments_lexer": "ipython3",
   "version": "3.6.2"
  }
 },
 "nbformat": 4,
 "nbformat_minor": 2
}
