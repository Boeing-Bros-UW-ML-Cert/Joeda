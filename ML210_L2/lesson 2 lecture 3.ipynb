{
 "cells": [
  {
   "cell_type": "code",
   "execution_count": null,
   "metadata": {
    "collapsed": true
   },
   "outputs": [],
   "source": [
    "import pandas as pd\n",
    "\n",
    "# note I don't have the cars Excel file, so nothing is going to run\n",
    "\n",
    "data = pd.read_excel(\"cars.xls\")\n",
    "data.head()"
   ]
  },
  {
   "cell_type": "code",
   "execution_count": null,
   "metadata": {
    "collapsed": true
   },
   "outputs": [],
   "source": [
    "import statsmodels.api as sm\n",
    "from sklearn.preprocessing import StandardScaler\n",
    "scale = StandardScaler()\n",
    "\n",
    "features = data[[\"Mileage\",\"Cylinder\",\"Doors\"]]\n",
    "labels = data[\"Price\"]\n",
    "\n",
    "features[[\"Mileage\",\"Cylinder\",\"Doors\"]] = scale.fit_transform(features[[\"Mileage\",\"Cylinder\",\"Doors\"]])\n",
    "\n",
    "print(features)\n",
    "\n",
    "#OLS = ordinary least squares\n",
    "model = sm.OLS(labels, features).fit()\n",
    "model.summary()"
   ]
  }
 ],
 "metadata": {
  "kernelspec": {
   "display_name": "Python 3",
   "language": "python",
   "name": "python3"
  },
  "language_info": {
   "codemirror_mode": {
    "name": "ipython",
    "version": 3
   },
   "file_extension": ".py",
   "mimetype": "text/x-python",
   "name": "python",
   "nbconvert_exporter": "python",
   "pygments_lexer": "ipython3",
   "version": "3.6.2"
  }
 },
 "nbformat": 4,
 "nbformat_minor": 2
}
