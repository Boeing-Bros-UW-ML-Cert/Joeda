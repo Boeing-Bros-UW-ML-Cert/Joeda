{
 "cells": [
  {
   "cell_type": "markdown",
   "metadata": {},
   "source": [
    "<h1>Lesson 5. Model selection: US Salary Prediction</h1>"
   ]
  },
  {
   "cell_type": "markdown",
   "metadata": {},
   "source": [
    "<img src=https://upload.wikimedia.org/wikipedia/commons/thumb/9/93/White_House_lawn_%281%29.tif/lossy-page1-2433px-White_House_lawn_%281%29.tif.jpg style=\"height:300px;\">\n",
    "  \n",
    "<p>In this exercise you will use the US Adult Census data relating income to social factors such as Age, Education, race etc...</p>\n",
    "\n",
    "<p>The goal here is to train a binary classifier on the training dataset to predict the column income_bracket which has two possible values \">50K\" and \"<=50K\" and evaluate the accuracy of the classifier with the test dataset.</p>\n"
   ]
  },
  {
   "cell_type": "code",
   "execution_count": 34,
   "metadata": {},
   "outputs": [],
   "source": [
    "import matplotlib.pyplot as plt"
   ]
  },
  {
   "cell_type": "code",
   "execution_count": 10,
   "metadata": {},
   "outputs": [
    {
     "name": "stdout",
     "output_type": "stream",
     "text": [
      "<class 'pandas.core.frame.DataFrame'>\n",
      "RangeIndex: 48842 entries, 0 to 48841\n",
      "Data columns (total 10 columns):\n",
      "Age              48842 non-null int64\n",
      "EducationNum     48842 non-null int64\n",
      "MaritalStatus    48842 non-null object\n",
      "Occupation       48842 non-null object\n",
      "Relationship     48842 non-null object\n",
      "Race             48842 non-null object\n",
      "Gender           48842 non-null object\n",
      "Hours/Week       48842 non-null int64\n",
      "Country          48842 non-null object\n",
      "Income           48842 non-null object\n",
      "dtypes: int64(3), object(7)\n",
      "memory usage: 3.7+ MB\n",
      "None\n"
     ]
    },
    {
     "data": {
      "text/html": [
       "<div>\n",
       "<style scoped>\n",
       "    .dataframe tbody tr th:only-of-type {\n",
       "        vertical-align: middle;\n",
       "    }\n",
       "\n",
       "    .dataframe tbody tr th {\n",
       "        vertical-align: top;\n",
       "    }\n",
       "\n",
       "    .dataframe thead th {\n",
       "        text-align: right;\n",
       "    }\n",
       "</style>\n",
       "<table border=\"1\" class=\"dataframe\">\n",
       "  <thead>\n",
       "    <tr style=\"text-align: right;\">\n",
       "      <th></th>\n",
       "      <th>Age</th>\n",
       "      <th>EducationNum</th>\n",
       "      <th>MaritalStatus</th>\n",
       "      <th>Occupation</th>\n",
       "      <th>Relationship</th>\n",
       "      <th>Race</th>\n",
       "      <th>Gender</th>\n",
       "      <th>Hours/Week</th>\n",
       "      <th>Country</th>\n",
       "      <th>Income</th>\n",
       "    </tr>\n",
       "  </thead>\n",
       "  <tbody>\n",
       "    <tr>\n",
       "      <th>0</th>\n",
       "      <td>25</td>\n",
       "      <td>7</td>\n",
       "      <td>Never-married</td>\n",
       "      <td>Machine-op-inspct</td>\n",
       "      <td>Own-child</td>\n",
       "      <td>Black</td>\n",
       "      <td>Male</td>\n",
       "      <td>40</td>\n",
       "      <td>United-States</td>\n",
       "      <td>&lt;=50K.</td>\n",
       "    </tr>\n",
       "    <tr>\n",
       "      <th>1</th>\n",
       "      <td>38</td>\n",
       "      <td>9</td>\n",
       "      <td>Married-civ-spouse</td>\n",
       "      <td>Farming-fishing</td>\n",
       "      <td>Husband</td>\n",
       "      <td>White</td>\n",
       "      <td>Male</td>\n",
       "      <td>50</td>\n",
       "      <td>United-States</td>\n",
       "      <td>&lt;=50K.</td>\n",
       "    </tr>\n",
       "    <tr>\n",
       "      <th>2</th>\n",
       "      <td>28</td>\n",
       "      <td>12</td>\n",
       "      <td>Married-civ-spouse</td>\n",
       "      <td>Protective-serv</td>\n",
       "      <td>Husband</td>\n",
       "      <td>White</td>\n",
       "      <td>Male</td>\n",
       "      <td>40</td>\n",
       "      <td>United-States</td>\n",
       "      <td>&gt;50K.</td>\n",
       "    </tr>\n",
       "    <tr>\n",
       "      <th>3</th>\n",
       "      <td>44</td>\n",
       "      <td>10</td>\n",
       "      <td>Married-civ-spouse</td>\n",
       "      <td>Machine-op-inspct</td>\n",
       "      <td>Husband</td>\n",
       "      <td>Black</td>\n",
       "      <td>Male</td>\n",
       "      <td>40</td>\n",
       "      <td>United-States</td>\n",
       "      <td>&gt;50K.</td>\n",
       "    </tr>\n",
       "    <tr>\n",
       "      <th>4</th>\n",
       "      <td>18</td>\n",
       "      <td>10</td>\n",
       "      <td>Never-married</td>\n",
       "      <td>?</td>\n",
       "      <td>Own-child</td>\n",
       "      <td>White</td>\n",
       "      <td>Female</td>\n",
       "      <td>30</td>\n",
       "      <td>United-States</td>\n",
       "      <td>&lt;=50K.</td>\n",
       "    </tr>\n",
       "  </tbody>\n",
       "</table>\n",
       "</div>"
      ],
      "text/plain": [
       "   Age  EducationNum       MaritalStatus         Occupation Relationship  \\\n",
       "0   25             7       Never-married  Machine-op-inspct    Own-child   \n",
       "1   38             9  Married-civ-spouse    Farming-fishing      Husband   \n",
       "2   28            12  Married-civ-spouse    Protective-serv      Husband   \n",
       "3   44            10  Married-civ-spouse  Machine-op-inspct      Husband   \n",
       "4   18            10       Never-married                  ?    Own-child   \n",
       "\n",
       "    Race  Gender  Hours/Week        Country  Income  \n",
       "0  Black    Male          40  United-States  <=50K.  \n",
       "1  White    Male          50  United-States  <=50K.  \n",
       "2  White    Male          40  United-States   >50K.  \n",
       "3  Black    Male          40  United-States   >50K.  \n",
       "4  White  Female          30  United-States  <=50K.  "
      ]
     },
     "execution_count": 10,
     "metadata": {},
     "output_type": "execute_result"
    }
   ],
   "source": [
    "import pandas as pd\n",
    "import numpy as np\n",
    "from sklearn import preprocessing, metrics\n",
    "from sklearn.model_selection import train_test_split\n",
    "\n",
    "\n",
    "train=pd.read_csv('census-training.csv')\n",
    "print(train.info())\n",
    "train.head()"
   ]
  },
  {
   "cell_type": "markdown",
   "metadata": {},
   "source": [
    "<h3>Q.1. Write a command that will calculate the number of unique values for each feature in the training data.</h3>"
   ]
  },
  {
   "cell_type": "code",
   "execution_count": 11,
   "metadata": {},
   "outputs": [
    {
     "data": {
      "text/plain": [
       "Age              74\n",
       "EducationNum     16\n",
       "MaritalStatus     7\n",
       "Occupation       15\n",
       "Relationship      6\n",
       "Race              5\n",
       "Gender            2\n",
       "Hours/Week       96\n",
       "Country          42\n",
       "Income            4\n",
       "dtype: int64"
      ]
     },
     "execution_count": 11,
     "metadata": {},
     "output_type": "execute_result"
    }
   ],
   "source": [
    "train.nunique()"
   ]
  },
  {
   "cell_type": "markdown",
   "metadata": {},
   "source": [
    "<h3>Q.2. There is a special character '?' inserted in the data in place of null values.  Write a command that will remove it and replace with NaN.</h3>"
   ]
  },
  {
   "cell_type": "code",
   "execution_count": 12,
   "metadata": {},
   "outputs": [
    {
     "name": "stdout",
     "output_type": "stream",
     "text": [
      "Age                 0\n",
      "EducationNum        0\n",
      "MaritalStatus       0\n",
      "Occupation       2809\n",
      "Relationship        0\n",
      "Race                0\n",
      "Gender              0\n",
      "Hours/Week          0\n",
      "Country           857\n",
      "Income              0\n",
      "dtype: int64\n"
     ]
    }
   ],
   "source": [
    "# Command (s): remove the '?' special character and replace with NaN\n",
    "train.replace(\"?\", np.NaN, inplace=True)\n",
    "print(train.isnull().sum()) #checking the dataset for NaN values .... NaN values in two columns"
   ]
  },
  {
   "cell_type": "markdown",
   "metadata": {},
   "source": [
    "<h3>Q.3. Replace all missing values in Occupation and Country by their mode (most occuring values). </h3>"
   ]
  },
  {
   "cell_type": "code",
   "execution_count": 13,
   "metadata": {},
   "outputs": [
    {
     "name": "stdout",
     "output_type": "stream",
     "text": [
      "Mode Occupation:  Prof-specialty\n",
      "Mode Country:  United-States\n"
     ]
    },
    {
     "data": {
      "text/plain": [
       "Age              0\n",
       "EducationNum     0\n",
       "MaritalStatus    0\n",
       "Occupation       0\n",
       "Relationship     0\n",
       "Race             0\n",
       "Gender           0\n",
       "Hours/Week       0\n",
       "Country          0\n",
       "Income           0\n",
       "dtype: int64"
      ]
     },
     "execution_count": 13,
     "metadata": {},
     "output_type": "execute_result"
    }
   ],
   "source": [
    "#Command(s):\n",
    "modes = train.mode() # finding mode to compute the most occuring item in every column\n",
    "#replace missing values with their mode\n",
    "\n",
    "train[\"Occupation\"] = train[\"Occupation\"].fillna(modes[\"Occupation\"].values[0])\n",
    "train[\"Country\"] = train[\"Country\"].fillna(modes[\"Country\"].values[0])\n",
    "\n",
    "print(\"Mode Occupation:  \" + modes[\"Occupation\"].values[0])\n",
    "print(\"Mode Country:  \" + modes[\"Country\"].values[0])\n",
    "\n",
    "train.isnull().sum() #checking the data for NaN values .... should all show 0 now"
   ]
  },
  {
   "cell_type": "markdown",
   "metadata": {},
   "source": [
    "<h3>Q.4. Write functions to replace Gender and Income attributes to \"0\" and \"1\". </h3>"
   ]
  },
  {
   "cell_type": "code",
   "execution_count": 14,
   "metadata": {},
   "outputs": [
    {
     "data": {
      "text/html": [
       "<div>\n",
       "<style scoped>\n",
       "    .dataframe tbody tr th:only-of-type {\n",
       "        vertical-align: middle;\n",
       "    }\n",
       "\n",
       "    .dataframe tbody tr th {\n",
       "        vertical-align: top;\n",
       "    }\n",
       "\n",
       "    .dataframe thead th {\n",
       "        text-align: right;\n",
       "    }\n",
       "</style>\n",
       "<table border=\"1\" class=\"dataframe\">\n",
       "  <thead>\n",
       "    <tr style=\"text-align: right;\">\n",
       "      <th></th>\n",
       "      <th>Age</th>\n",
       "      <th>EducationNum</th>\n",
       "      <th>MaritalStatus</th>\n",
       "      <th>Occupation</th>\n",
       "      <th>Relationship</th>\n",
       "      <th>Race</th>\n",
       "      <th>Gender</th>\n",
       "      <th>Hours/Week</th>\n",
       "      <th>Country</th>\n",
       "      <th>Income</th>\n",
       "    </tr>\n",
       "  </thead>\n",
       "  <tbody>\n",
       "    <tr>\n",
       "      <th>0</th>\n",
       "      <td>25</td>\n",
       "      <td>7</td>\n",
       "      <td>Never-married</td>\n",
       "      <td>Machine-op-inspct</td>\n",
       "      <td>Own-child</td>\n",
       "      <td>Black</td>\n",
       "      <td>Male</td>\n",
       "      <td>40</td>\n",
       "      <td>United-States</td>\n",
       "      <td>&lt;=50K.</td>\n",
       "    </tr>\n",
       "    <tr>\n",
       "      <th>1</th>\n",
       "      <td>38</td>\n",
       "      <td>9</td>\n",
       "      <td>Married-civ-spouse</td>\n",
       "      <td>Farming-fishing</td>\n",
       "      <td>Husband</td>\n",
       "      <td>White</td>\n",
       "      <td>Male</td>\n",
       "      <td>50</td>\n",
       "      <td>United-States</td>\n",
       "      <td>&lt;=50K.</td>\n",
       "    </tr>\n",
       "    <tr>\n",
       "      <th>2</th>\n",
       "      <td>28</td>\n",
       "      <td>12</td>\n",
       "      <td>Married-civ-spouse</td>\n",
       "      <td>Protective-serv</td>\n",
       "      <td>Husband</td>\n",
       "      <td>White</td>\n",
       "      <td>Male</td>\n",
       "      <td>40</td>\n",
       "      <td>United-States</td>\n",
       "      <td>&gt;50K.</td>\n",
       "    </tr>\n",
       "    <tr>\n",
       "      <th>3</th>\n",
       "      <td>44</td>\n",
       "      <td>10</td>\n",
       "      <td>Married-civ-spouse</td>\n",
       "      <td>Machine-op-inspct</td>\n",
       "      <td>Husband</td>\n",
       "      <td>Black</td>\n",
       "      <td>Male</td>\n",
       "      <td>40</td>\n",
       "      <td>United-States</td>\n",
       "      <td>&gt;50K.</td>\n",
       "    </tr>\n",
       "    <tr>\n",
       "      <th>4</th>\n",
       "      <td>18</td>\n",
       "      <td>10</td>\n",
       "      <td>Never-married</td>\n",
       "      <td>Prof-specialty</td>\n",
       "      <td>Own-child</td>\n",
       "      <td>White</td>\n",
       "      <td>Female</td>\n",
       "      <td>30</td>\n",
       "      <td>United-States</td>\n",
       "      <td>&lt;=50K.</td>\n",
       "    </tr>\n",
       "  </tbody>\n",
       "</table>\n",
       "</div>"
      ],
      "text/plain": [
       "   Age  EducationNum       MaritalStatus         Occupation Relationship  \\\n",
       "0   25             7       Never-married  Machine-op-inspct    Own-child   \n",
       "1   38             9  Married-civ-spouse    Farming-fishing      Husband   \n",
       "2   28            12  Married-civ-spouse    Protective-serv      Husband   \n",
       "3   44            10  Married-civ-spouse  Machine-op-inspct      Husband   \n",
       "4   18            10       Never-married     Prof-specialty    Own-child   \n",
       "\n",
       "    Race  Gender  Hours/Week        Country  Income  \n",
       "0  Black    Male          40  United-States  <=50K.  \n",
       "1  White    Male          50  United-States  <=50K.  \n",
       "2  White    Male          40  United-States   >50K.  \n",
       "3  Black    Male          40  United-States   >50K.  \n",
       "4  White  Female          30  United-States  <=50K.  "
      ]
     },
     "execution_count": 14,
     "metadata": {},
     "output_type": "execute_result"
    }
   ],
   "source": [
    "train.head()"
   ]
  },
  {
   "cell_type": "code",
   "execution_count": 15,
   "metadata": {},
   "outputs": [
    {
     "data": {
      "text/html": [
       "<div>\n",
       "<style scoped>\n",
       "    .dataframe tbody tr th:only-of-type {\n",
       "        vertical-align: middle;\n",
       "    }\n",
       "\n",
       "    .dataframe tbody tr th {\n",
       "        vertical-align: top;\n",
       "    }\n",
       "\n",
       "    .dataframe thead th {\n",
       "        text-align: right;\n",
       "    }\n",
       "</style>\n",
       "<table border=\"1\" class=\"dataframe\">\n",
       "  <thead>\n",
       "    <tr style=\"text-align: right;\">\n",
       "      <th></th>\n",
       "      <th>Age</th>\n",
       "      <th>EducationNum</th>\n",
       "      <th>MaritalStatus</th>\n",
       "      <th>Occupation</th>\n",
       "      <th>Relationship</th>\n",
       "      <th>Race</th>\n",
       "      <th>Gender</th>\n",
       "      <th>Hours/Week</th>\n",
       "      <th>Country</th>\n",
       "      <th>Income</th>\n",
       "    </tr>\n",
       "  </thead>\n",
       "  <tbody>\n",
       "    <tr>\n",
       "      <th>0</th>\n",
       "      <td>25</td>\n",
       "      <td>7</td>\n",
       "      <td>Never-married</td>\n",
       "      <td>Machine-op-inspct</td>\n",
       "      <td>Own-child</td>\n",
       "      <td>Black</td>\n",
       "      <td>1</td>\n",
       "      <td>40</td>\n",
       "      <td>United-States</td>\n",
       "      <td>0</td>\n",
       "    </tr>\n",
       "    <tr>\n",
       "      <th>1</th>\n",
       "      <td>38</td>\n",
       "      <td>9</td>\n",
       "      <td>Married-civ-spouse</td>\n",
       "      <td>Farming-fishing</td>\n",
       "      <td>Husband</td>\n",
       "      <td>White</td>\n",
       "      <td>1</td>\n",
       "      <td>50</td>\n",
       "      <td>United-States</td>\n",
       "      <td>0</td>\n",
       "    </tr>\n",
       "    <tr>\n",
       "      <th>2</th>\n",
       "      <td>28</td>\n",
       "      <td>12</td>\n",
       "      <td>Married-civ-spouse</td>\n",
       "      <td>Protective-serv</td>\n",
       "      <td>Husband</td>\n",
       "      <td>White</td>\n",
       "      <td>1</td>\n",
       "      <td>40</td>\n",
       "      <td>United-States</td>\n",
       "      <td>1</td>\n",
       "    </tr>\n",
       "    <tr>\n",
       "      <th>3</th>\n",
       "      <td>44</td>\n",
       "      <td>10</td>\n",
       "      <td>Married-civ-spouse</td>\n",
       "      <td>Machine-op-inspct</td>\n",
       "      <td>Husband</td>\n",
       "      <td>Black</td>\n",
       "      <td>1</td>\n",
       "      <td>40</td>\n",
       "      <td>United-States</td>\n",
       "      <td>1</td>\n",
       "    </tr>\n",
       "    <tr>\n",
       "      <th>4</th>\n",
       "      <td>18</td>\n",
       "      <td>10</td>\n",
       "      <td>Never-married</td>\n",
       "      <td>Prof-specialty</td>\n",
       "      <td>Own-child</td>\n",
       "      <td>White</td>\n",
       "      <td>0</td>\n",
       "      <td>30</td>\n",
       "      <td>United-States</td>\n",
       "      <td>0</td>\n",
       "    </tr>\n",
       "  </tbody>\n",
       "</table>\n",
       "</div>"
      ],
      "text/plain": [
       "   Age  EducationNum       MaritalStatus         Occupation Relationship  \\\n",
       "0   25             7       Never-married  Machine-op-inspct    Own-child   \n",
       "1   38             9  Married-civ-spouse    Farming-fishing      Husband   \n",
       "2   28            12  Married-civ-spouse    Protective-serv      Husband   \n",
       "3   44            10  Married-civ-spouse  Machine-op-inspct      Husband   \n",
       "4   18            10       Never-married     Prof-specialty    Own-child   \n",
       "\n",
       "    Race  Gender  Hours/Week        Country  Income  \n",
       "0  Black       1          40  United-States       0  \n",
       "1  White       1          50  United-States       0  \n",
       "2  White       1          40  United-States       1  \n",
       "3  Black       1          40  United-States       1  \n",
       "4  White       0          30  United-States       0  "
      ]
     },
     "execution_count": 15,
     "metadata": {},
     "output_type": "execute_result"
    }
   ],
   "source": [
    "# converting Gender to \"0\" and \"1\" \n",
    "def gender_to_numeric(x):\n",
    "    #TODO return 1 f gender is Male, 0 otherwise\n",
    "    return 1 if x == \"Male\" else 0 \n",
    "\n",
    "def income_to_numeric(x):\n",
    "    #TODO return 1 f income is greater than 50k, 0 otherwise\n",
    "    return 1 if x == \">50K.\" else 0\n",
    "\n",
    "train[\"Gender\"] = train[\"Gender\"].apply(lambda x: gender_to_numeric(x))\n",
    "train[\"Income\"] = train[\"Income\"].apply(lambda x: income_to_numeric(x))\n",
    "\n",
    "#income_to_numeric(train[\"Income\"])\n",
    "\n",
    "    \n",
    "#train['Gender'] = #TODO apply the function to this column\n",
    "\n",
    "# converting Inccome to \"0\" and \"1\" \n",
    "#   \n",
    "#train['Income'] = #TODO apply the function to this column\n",
    "\n",
    "train.head()"
   ]
  },
  {
   "cell_type": "markdown",
   "metadata": {},
   "source": [
    "<h3>Q.5. Use the label encoder API to encode all object-type in the data. </h3>"
   ]
  },
  {
   "cell_type": "code",
   "execution_count": 16,
   "metadata": {},
   "outputs": [],
   "source": [
    "train_backup = train\n"
   ]
  },
  {
   "cell_type": "code",
   "execution_count": 17,
   "metadata": {},
   "outputs": [
    {
     "name": "stdout",
     "output_type": "stream",
     "text": [
      "processing MaritalStatus\n",
      "processing Occupation\n",
      "processing Relationship\n",
      "processing Race\n",
      "processing Country\n"
     ]
    },
    {
     "data": {
      "text/html": [
       "<div>\n",
       "<style scoped>\n",
       "    .dataframe tbody tr th:only-of-type {\n",
       "        vertical-align: middle;\n",
       "    }\n",
       "\n",
       "    .dataframe tbody tr th {\n",
       "        vertical-align: top;\n",
       "    }\n",
       "\n",
       "    .dataframe thead th {\n",
       "        text-align: right;\n",
       "    }\n",
       "</style>\n",
       "<table border=\"1\" class=\"dataframe\">\n",
       "  <thead>\n",
       "    <tr style=\"text-align: right;\">\n",
       "      <th></th>\n",
       "      <th>Age</th>\n",
       "      <th>EducationNum</th>\n",
       "      <th>MaritalStatus</th>\n",
       "      <th>Occupation</th>\n",
       "      <th>Relationship</th>\n",
       "      <th>Race</th>\n",
       "      <th>Gender</th>\n",
       "      <th>Hours/Week</th>\n",
       "      <th>Country</th>\n",
       "      <th>Income</th>\n",
       "    </tr>\n",
       "  </thead>\n",
       "  <tbody>\n",
       "    <tr>\n",
       "      <th>0</th>\n",
       "      <td>25</td>\n",
       "      <td>7</td>\n",
       "      <td>4</td>\n",
       "      <td>6</td>\n",
       "      <td>3</td>\n",
       "      <td>2</td>\n",
       "      <td>1</td>\n",
       "      <td>40</td>\n",
       "      <td>38</td>\n",
       "      <td>0</td>\n",
       "    </tr>\n",
       "    <tr>\n",
       "      <th>1</th>\n",
       "      <td>38</td>\n",
       "      <td>9</td>\n",
       "      <td>2</td>\n",
       "      <td>4</td>\n",
       "      <td>0</td>\n",
       "      <td>4</td>\n",
       "      <td>1</td>\n",
       "      <td>50</td>\n",
       "      <td>38</td>\n",
       "      <td>0</td>\n",
       "    </tr>\n",
       "    <tr>\n",
       "      <th>2</th>\n",
       "      <td>28</td>\n",
       "      <td>12</td>\n",
       "      <td>2</td>\n",
       "      <td>10</td>\n",
       "      <td>0</td>\n",
       "      <td>4</td>\n",
       "      <td>1</td>\n",
       "      <td>40</td>\n",
       "      <td>38</td>\n",
       "      <td>1</td>\n",
       "    </tr>\n",
       "    <tr>\n",
       "      <th>3</th>\n",
       "      <td>44</td>\n",
       "      <td>10</td>\n",
       "      <td>2</td>\n",
       "      <td>6</td>\n",
       "      <td>0</td>\n",
       "      <td>2</td>\n",
       "      <td>1</td>\n",
       "      <td>40</td>\n",
       "      <td>38</td>\n",
       "      <td>1</td>\n",
       "    </tr>\n",
       "    <tr>\n",
       "      <th>4</th>\n",
       "      <td>18</td>\n",
       "      <td>10</td>\n",
       "      <td>4</td>\n",
       "      <td>9</td>\n",
       "      <td>3</td>\n",
       "      <td>4</td>\n",
       "      <td>0</td>\n",
       "      <td>30</td>\n",
       "      <td>38</td>\n",
       "      <td>0</td>\n",
       "    </tr>\n",
       "    <tr>\n",
       "      <th>5</th>\n",
       "      <td>34</td>\n",
       "      <td>6</td>\n",
       "      <td>4</td>\n",
       "      <td>7</td>\n",
       "      <td>1</td>\n",
       "      <td>4</td>\n",
       "      <td>1</td>\n",
       "      <td>30</td>\n",
       "      <td>38</td>\n",
       "      <td>0</td>\n",
       "    </tr>\n",
       "    <tr>\n",
       "      <th>6</th>\n",
       "      <td>29</td>\n",
       "      <td>9</td>\n",
       "      <td>4</td>\n",
       "      <td>9</td>\n",
       "      <td>4</td>\n",
       "      <td>2</td>\n",
       "      <td>1</td>\n",
       "      <td>40</td>\n",
       "      <td>38</td>\n",
       "      <td>0</td>\n",
       "    </tr>\n",
       "    <tr>\n",
       "      <th>7</th>\n",
       "      <td>63</td>\n",
       "      <td>15</td>\n",
       "      <td>2</td>\n",
       "      <td>9</td>\n",
       "      <td>0</td>\n",
       "      <td>4</td>\n",
       "      <td>1</td>\n",
       "      <td>32</td>\n",
       "      <td>38</td>\n",
       "      <td>1</td>\n",
       "    </tr>\n",
       "    <tr>\n",
       "      <th>8</th>\n",
       "      <td>24</td>\n",
       "      <td>10</td>\n",
       "      <td>4</td>\n",
       "      <td>7</td>\n",
       "      <td>4</td>\n",
       "      <td>4</td>\n",
       "      <td>0</td>\n",
       "      <td>40</td>\n",
       "      <td>38</td>\n",
       "      <td>0</td>\n",
       "    </tr>\n",
       "    <tr>\n",
       "      <th>9</th>\n",
       "      <td>55</td>\n",
       "      <td>4</td>\n",
       "      <td>2</td>\n",
       "      <td>2</td>\n",
       "      <td>0</td>\n",
       "      <td>4</td>\n",
       "      <td>1</td>\n",
       "      <td>10</td>\n",
       "      <td>38</td>\n",
       "      <td>0</td>\n",
       "    </tr>\n",
       "  </tbody>\n",
       "</table>\n",
       "</div>"
      ],
      "text/plain": [
       "   Age  EducationNum  MaritalStatus  Occupation  Relationship  Race  Gender  \\\n",
       "0   25             7              4           6             3     2       1   \n",
       "1   38             9              2           4             0     4       1   \n",
       "2   28            12              2          10             0     4       1   \n",
       "3   44            10              2           6             0     2       1   \n",
       "4   18            10              4           9             3     4       0   \n",
       "5   34             6              4           7             1     4       1   \n",
       "6   29             9              4           9             4     2       1   \n",
       "7   63            15              2           9             0     4       1   \n",
       "8   24            10              4           7             4     4       0   \n",
       "9   55             4              2           2             0     4       1   \n",
       "\n",
       "   Hours/Week  Country  Income  \n",
       "0          40       38       0  \n",
       "1          50       38       0  \n",
       "2          40       38       1  \n",
       "3          40       38       1  \n",
       "4          30       38       0  \n",
       "5          30       38       0  \n",
       "6          40       38       0  \n",
       "7          32       38       1  \n",
       "8          40       38       0  \n",
       "9          10       38       0  "
      ]
     },
     "execution_count": 17,
     "metadata": {},
     "output_type": "execute_result"
    }
   ],
   "source": [
    "# Command(s) \n",
    "obj = train.select_dtypes(include=['object']) #all features that are 'object' datatypes\n",
    "le = preprocessing.LabelEncoder()\n",
    "i = 0\n",
    "\n",
    "for i in range(len(obj.columns)):   \n",
    "    print(\"processing \" + obj.columns[i])\n",
    "    le.fit(train[obj.columns[i]])\n",
    "    train[obj.columns[i]] = le.transform(train[obj.columns[i]])\n",
    "    \n",
    "train.head(10) #Inspect the data, all features should be numeric now"
   ]
  },
  {
   "cell_type": "markdown",
   "metadata": {},
   "source": [
    "<h3>Q.6. Split the data into 70% training and 30% test </h3>"
   ]
  },
  {
   "cell_type": "code",
   "execution_count": 18,
   "metadata": {},
   "outputs": [],
   "source": [
    "x_train, x_test, y_train, y_test = train_test_split(train.iloc[:,:-1].values,train.iloc[:,9:].values, test_size=.30, random_state=314)"
   ]
  },
  {
   "cell_type": "code",
   "execution_count": 22,
   "metadata": {},
   "outputs": [
    {
     "name": "stdout",
     "output_type": "stream",
     "text": [
      "(48842, 10)\n",
      "(34189, 9)\n",
      "(14653, 9)\n"
     ]
    }
   ],
   "source": [
    "# confirming that the shapes are consistent with the desiured split\n",
    "print(train.shape)\n",
    "print(x_train.shape)\n",
    "print(x_test.shape)"
   ]
  },
  {
   "cell_type": "markdown",
   "metadata": {},
   "source": [
    "<h3>Q.7. Train the logistic regression model on the train dataset and evaluate its performance on the test dataset.</p>"
   ]
  },
  {
   "cell_type": "code",
   "execution_count": 38,
   "metadata": {},
   "outputs": [],
   "source": [
    "#Initialize classifier\n",
    "from sklearn.linear_model import LogisticRegression\n",
    "from sklearn.metrics import confusion_matrix, accuracy_score, classification_report, roc_curve, auc\n",
    "\n",
    "#TODO Initialize logistic regression classifier\n",
    "# TODO: fit X_train and y_trainlog_rgr = LogisticRegression()\n",
    "log_rgr = LogisticRegression(solver=\"lbfgs\",max_iter=1000)\n",
    "log_rgr.fit(x_train, y_train.ravel())\n",
    "\n",
    "#check performance against training data\n",
    "y_pred_train= log_rgr.predict(x_train)\n",
    "\n",
    "#predict on the test set\n",
    "y_pred = log_rgr.predict(x_test)"
   ]
  },
  {
   "cell_type": "code",
   "execution_count": 40,
   "metadata": {},
   "outputs": [
    {
     "data": {
      "image/png": "[encoded data removed]",
      "text/plain": [
       "<Figure size 432x288 with 1 Axes>"
      ]
     },
     "metadata": {
      "needs_background": "light"
     },
     "output_type": "display_data"
    }
   ],
   "source": [
    "#get roc and auc information\n",
    "log_rgr_score_test = log_rgr.predict_proba(x_test)[:,1]\n",
    "fpr_tst, tpr_tst, _ = roc_curve(y_test,log_rgr_score_test)\n",
    "\n",
    "plt.plot(fpr_tst, tpr_tst, label=\"ROC -- Test Data\")\n",
    "plt.plot([0,1], [0,1], c=\"black\", ls=\"--\")\n",
    "plt.legend(loc=\"lower right\")\n",
    "plt.xlabel(\"False Positive Rate\")\n",
    "plt.ylabel(\"True Positive Rate\")\n",
    "plt.xlim(0,1)\n",
    "plt.ylim(0,1)\n",
    "plt.show()"
   ]
  },
  {
   "cell_type": "code",
   "execution_count": 42,
   "metadata": {},
   "outputs": [
    {
     "name": "stdout",
     "output_type": "stream",
     "text": [
      "AUC on test data:0.768\n"
     ]
    }
   ],
   "source": [
    "print(\"AUC on test data:\" + str(round(auc(fpr_tst, tpr_tst),3)))"
   ]
  },
  {
   "cell_type": "code",
   "execution_count": 30,
   "metadata": {},
   "outputs": [
    {
     "name": "stdout",
     "output_type": "stream",
     "text": [
      "Confusion matrix:\n",
      "[[31441    10]\n",
      " [ 2736     2]]\n",
      "Accuracy:\n",
      " 0.9196817689900261\n"
     ]
    }
   ],
   "source": [
    "print(\"Confusion matrix:\\n\" + str(confusion_matrix(y_train, y_pred_train)))\n",
    "print(\"Accuracy:\\n \"+str(accuracy_score(y_train, y_pred_train)))"
   ]
  },
  {
   "cell_type": "code",
   "execution_count": 28,
   "metadata": {},
   "outputs": [
    {
     "name": "stdout",
     "output_type": "stream",
     "text": [
      "Confusion matrix:\n",
      "[[13541     4]\n",
      " [ 1105     3]]\n",
      "Accuracy:\n",
      " 0.9243158397597762\n"
     ]
    }
   ],
   "source": [
    "print(\"Confusion matrix:\\n\" + str(confusion_matrix(y_test, y_pred)))\n",
    "print(\"Accuracy:\\n \"+str(accuracy_score(y_test, y_pred)))"
   ]
  },
  {
   "cell_type": "code",
   "execution_count": 37,
   "metadata": {},
   "outputs": [
    {
     "data": {
      "image/png": "[encoded data removed]",
      "text/plain": [
       "<Figure size 432x288 with 1 Axes>"
      ]
     },
     "metadata": {
      "needs_background": "light"
     },
     "output_type": "display_data"
    }
   ],
   "source": [
    "train[\"Income\"].hist()\n",
    "plt.xlabel(\"class values\")\n",
    "plt.ylabel(\"counts\")\n",
    "plt.show()"
   ]
  },
  {
   "cell_type": "markdown",
   "metadata": {},
   "source": [
    "The model shows as having a high accuracy rate, however, this mainly stems from the class imbalance of the datasets.  Given that one population is so large, even a model that just predicts class = 0 (income <= 50K) with no other information would have a very high accuracy rate. The AUC metric bares that out a bit more with the value of .78, showing that the model is accurate, but, it takes into acount the error of false positives.  "
   ]
  },
  {
   "cell_type": "markdown",
   "metadata": {},
   "source": [
    "<h3>Q.8. Train the KNN classifier (with k=15) on the train dataset and evaluate its performance on the test dataset. Compare your results with the one above</p>"
   ]
  },
  {
   "cell_type": "code",
   "execution_count": 43,
   "metadata": {},
   "outputs": [],
   "source": [
    "from sklearn.neighbors import KNeighborsClassifier"
   ]
  },
  {
   "cell_type": "code",
   "execution_count": 46,
   "metadata": {},
   "outputs": [
    {
     "data": {
      "text/plain": [
       "KNeighborsClassifier(algorithm='auto', leaf_size=30, metric='minkowski',\n",
       "           metric_params=None, n_jobs=None, n_neighbors=15, p=2,\n",
       "           weights='uniform')"
      ]
     },
     "execution_count": 46,
     "metadata": {},
     "output_type": "execute_result"
    }
   ],
   "source": [
    "#from sklearn.neighbors import KNeighborsClassifier\n",
    "\n",
    "#Initialize the classifier\n",
    "knn = KNeighborsClassifier(n_neighbors=15) #Initialize KNN classifier with k=15\n",
    "knn.fit(x_train, y_train.ravel()) #fit X_train and y_train\n"
   ]
  },
  {
   "cell_type": "code",
   "execution_count": 57,
   "metadata": {},
   "outputs": [
    {
     "data": {
      "image/png": "[encoded data removed]",
      "text/plain": [
       "<Figure size 432x288 with 1 Axes>"
      ]
     },
     "metadata": {
      "needs_background": "light"
     },
     "output_type": "display_data"
    }
   ],
   "source": [
    "knn_y_pred = knn.predict(x_test)\n",
    "knn_acc = accuracy_score(y_test, knn_y_pred)  #Compute the accuracy score\n",
    "\n",
    "knn_score_test = knn.predict_proba(x_test)[:,1]\n",
    "fpr_tst_knn, tpr_tst_knn, thresholds = roc_curve(y_test, knn_score_test)\n",
    "\n",
    "knn_roc_auc = auc(fpr_tst_knn, tpr_tst_knn)\n",
    "\n",
    "plt.title(\"ROC Curve of KNN\")\n",
    "plt.plot(fpr_tst_knn, tpr_tst_knn, 'b', label = 'AUC = %0.2f' % knn_roc_auc)\n",
    "plt.legend(loc = 'lower right')\n",
    "plt.plot([0, 1], [0, 1],'r--')\n",
    "plt.xlim([0, 1])\n",
    "plt.ylim([0, 1])\n",
    "plt.ylabel('True Positive Rate')\n",
    "plt.xlabel('False Positive Rate')\n",
    "plt.show()"
   ]
  },
  {
   "cell_type": "code",
   "execution_count": 53,
   "metadata": {},
   "outputs": [
    {
     "name": "stdout",
     "output_type": "stream",
     "text": [
      "Confusion Matrix:\n",
      " [[13513    32]\n",
      " [ 1095    13]]\n",
      "Accuracy: 0.9230874223708455\n",
      "AUC: 0.7457502601969901\n"
     ]
    }
   ],
   "source": [
    "print(\"Confusion Matrix:\\n {}\".format(confusion_matrix(y_test, knn_y_pred)))\n",
    "print(\"Accuracy: {}\".format(knn_acc))\n",
    "print(\"AUC: {}\".format(knn_roc_auc))"
   ]
  },
  {
   "cell_type": "markdown",
   "metadata": {},
   "source": [
    "The results are comparable to the previous results of the logistic regression.  Both models achieve approximately the same accuracy as well as have the same AUC values.  As such, the knn model doesn't offer a particularly compelling reason to use it over the logit model from a performance perspective.  "
   ]
  },
  {
   "cell_type": "markdown",
   "metadata": {},
   "source": [
    "<h3>Q.9. Perform recursive feature elimination (5 features) on the dataset using the logistic regression classifier. Any difference in the results? Explain.</h3>"
   ]
  },
  {
   "cell_type": "code",
   "execution_count": 54,
   "metadata": {},
   "outputs": [],
   "source": [
    "from sklearn.feature_selection import RFE\n",
    "log_rgr_backup = log_rgr"
   ]
  },
  {
   "cell_type": "code",
   "execution_count": 67,
   "metadata": {},
   "outputs": [],
   "source": [
    "rfe =  RFE(LogisticRegression(solver = \"lbfgs\",max_iter=1000), 5)\n",
    "fit = rfe.fit(x_train, y_train.ravel())"
   ]
  },
  {
   "cell_type": "code",
   "execution_count": 80,
   "metadata": {},
   "outputs": [],
   "source": [
    "y_pred_rfe = fit.predict(x_test)\n",
    "rfe_lr_acc = accuracy_score(y_test, y_pred_rfe)\n",
    "log_rgr_rfe_score = fit.predict_proba(x_test)[:,1]\n",
    "fpr_tst_rfe, tpr_tst_rfe, _ = roc_curve(y_test,log_rgr_rfe_score)\n",
    "rfe_roc_auc = auc(fpr_tst_rfe, tpr_tst_rfe)"
   ]
  },
  {
   "cell_type": "code",
   "execution_count": 82,
   "metadata": {},
   "outputs": [
    {
     "data": {
      "image/png": "[encoded data removed]",
      "text/plain": [
       "<Figure size 432x288 with 1 Axes>"
      ]
     },
     "metadata": {
      "needs_background": "light"
     },
     "output_type": "display_data"
    }
   ],
   "source": [
    "plt.title(\"ROC Curve of RFE\")\n",
    "plt.plot(fpr_tst_rfe, tpr_tst_rfe, 'b', label = 'AUC = %0.2f' % rfe_roc_auc)\n",
    "plt.legend(loc = 'lower right')\n",
    "plt.plot([0, 1], [0, 1],'r--')\n",
    "plt.xlim([0, 1])\n",
    "plt.ylim([0, 1])\n",
    "plt.ylabel('True Positive Rate')\n",
    "plt.xlabel('False Positive Rate')\n",
    "plt.show()"
   ]
  },
  {
   "cell_type": "code",
   "execution_count": 83,
   "metadata": {},
   "outputs": [
    {
     "name": "stdout",
     "output_type": "stream",
     "text": [
      "Accuracy: 0.9243840851702723\n",
      "AUC: 0.7443993347485918\n"
     ]
    }
   ],
   "source": [
    "print(\"Accuracy: {}\".format(rfe_lr_acc))\n",
    "print(\"AUC: {}\".format(rfe_roc_auc))"
   ]
  },
  {
   "cell_type": "markdown",
   "metadata": {},
   "source": [
    "The model generated from the RFE is still very comparable to the other models.  What this implies is that though the best performing features were kept, the extraneous features did not significantly impact the accuracy of the model overall.  Again, a major issue with this approach is not trying to address the high class imbalance"
   ]
  }
 ],
 "metadata": {
  "kernelspec": {
   "display_name": "Python 3",
   "language": "python",
   "name": "python3"
  },
  "language_info": {
   "codemirror_mode": {
    "name": "ipython",
    "version": 3
   },
   "file_extension": ".py",
   "mimetype": "text/x-python",
   "name": "python",
   "nbconvert_exporter": "python",
   "pygments_lexer": "ipython3",
   "version": "3.7.0"
  }
 },
 "nbformat": 4,
 "nbformat_minor": 2
}
