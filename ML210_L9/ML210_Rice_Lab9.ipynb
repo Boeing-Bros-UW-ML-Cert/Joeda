{
 "cells": [
  {
   "cell_type": "markdown",
   "metadata": {
    "deletable": true,
    "editable": true
   },
   "source": [
    "# Assignment 9: Bayesian Analysis"
   ]
  },
  {
   "cell_type": "markdown",
   "metadata": {
    "deletable": true,
    "editable": true
   },
   "source": [
    "### Conditional Probability "
   ]
  },
  {
   "cell_type": "markdown",
   "metadata": {
    "deletable": true,
    "editable": true
   },
   "source": [
    "Q.1. Let's say there are about 8.6 million people living in New-York and about 56 % of them speak Spanish. Let's also assume there are about 7.5 billion people on earth.\n",
    "\n",
    "If I randomly pick someone living on Earth (an Earthian?), what are the chances that this person is a Spanish speaking New-Yorker?<Br>\n",
    "<i> \n",
    "    <br>Probability of living in New York on Earth, P(NY | E) = 8.6m/7.5b ~ .11%\n",
    "    <br>Probability of speaking Spanish if living in NY, P(ES | NY) = 56%\n",
    "    <br>Probability of Spanish Speaking NY on Eartch = P(NY | E) * P(ES | NY) ~ .064%\n",
    "</i>\n",
    "    <p>\n",
    "Q.2 Explain in few terms what is Naive Bayes. What is it considered Naive?<br>\n",
    "<i>\n",
    "Naive Bayes is the assumption that probabilities of different events are statisitically independent from each other, that is, that the probability of one happening is not depending on the other happening.  For example, the chances of flipping heads on the 3rd coin flip is presumed independent of the coin flip results from the previous 2. \n",
    "</i>\n",
    "<p>\n",
    "Q.3 Let's suppose we have a Deck of Cards (52 cards). We pick a card at random. What is the probability of the card we picked being a king, given that it is a face card. <br>\n",
    "<i> We will define face card as J, Q, K, not A or 2-10.  \n",
    "    # of face cards = 12 (3 face cards times 4 suits)\n",
    "    # of Kings = 4\n",
    "    \n",
    "    P(K | FC) = 4/12= 1/3\n",
    "</i>"
   ]
  },
  {
   "cell_type": "code",
   "execution_count": 5,
   "metadata": {
    "collapsed": false,
    "deletable": true,
    "editable": true
   },
   "outputs": [
    {
     "name": "stdout",
     "output_type": "stream",
     "text": [
      "<class 'pandas.core.frame.DataFrame'>\n",
      "RangeIndex: 1841 entries, 0 to 1840\n",
      "Data columns (total 6 columns):\n",
      "Rash                       1841 non-null object\n",
      "SwollenLymphNode           1841 non-null object\n",
      "Chills                     1841 non-null object\n",
      "PolymeraseChainReaction    1841 non-null object\n",
      "VZVAntibodyTest            1841 non-null object\n",
      "Blisters                   1841 non-null object\n",
      "dtypes: object(6)\n",
      "memory usage: 86.4+ KB\n",
      "None\n"
     ]
    },
    {
     "data": {
      "text/html": [
       "<div>\n",
       "<style scoped>\n",
       "    .dataframe tbody tr th:only-of-type {\n",
       "        vertical-align: middle;\n",
       "    }\n",
       "\n",
       "    .dataframe tbody tr th {\n",
       "        vertical-align: top;\n",
       "    }\n",
       "\n",
       "    .dataframe thead th {\n",
       "        text-align: right;\n",
       "    }\n",
       "</style>\n",
       "<table border=\"1\" class=\"dataframe\">\n",
       "  <thead>\n",
       "    <tr style=\"text-align: right;\">\n",
       "      <th></th>\n",
       "      <th>Rash</th>\n",
       "      <th>SwollenLymphNode</th>\n",
       "      <th>Chills</th>\n",
       "      <th>PolymeraseChainReaction</th>\n",
       "      <th>VZVAntibodyTest</th>\n",
       "      <th>Blisters</th>\n",
       "    </tr>\n",
       "  </thead>\n",
       "  <tbody>\n",
       "    <tr>\n",
       "      <th>0</th>\n",
       "      <td>no</td>\n",
       "      <td>no</td>\n",
       "      <td>no</td>\n",
       "      <td>no</td>\n",
       "      <td>pos</td>\n",
       "      <td>no</td>\n",
       "    </tr>\n",
       "    <tr>\n",
       "      <th>1</th>\n",
       "      <td>yes</td>\n",
       "      <td>no</td>\n",
       "      <td>no</td>\n",
       "      <td>no</td>\n",
       "      <td>neg</td>\n",
       "      <td>no</td>\n",
       "    </tr>\n",
       "    <tr>\n",
       "      <th>2</th>\n",
       "      <td>no</td>\n",
       "      <td>no</td>\n",
       "      <td>no</td>\n",
       "      <td>no</td>\n",
       "      <td>neg</td>\n",
       "      <td>no</td>\n",
       "    </tr>\n",
       "    <tr>\n",
       "      <th>3</th>\n",
       "      <td>no</td>\n",
       "      <td>no</td>\n",
       "      <td>no</td>\n",
       "      <td>no</td>\n",
       "      <td>neg</td>\n",
       "      <td>no</td>\n",
       "    </tr>\n",
       "    <tr>\n",
       "      <th>4</th>\n",
       "      <td>no</td>\n",
       "      <td>no</td>\n",
       "      <td>no</td>\n",
       "      <td>no</td>\n",
       "      <td>neg</td>\n",
       "      <td>no</td>\n",
       "    </tr>\n",
       "  </tbody>\n",
       "</table>\n",
       "</div>"
      ],
      "text/plain": [
       "  Rash SwollenLymphNode Chills PolymeraseChainReaction VZVAntibodyTest  \\\n",
       "0   no               no     no                      no             pos   \n",
       "1  yes               no     no                      no             neg   \n",
       "2   no               no     no                      no             neg   \n",
       "3   no               no     no                      no             neg   \n",
       "4   no               no     no                      no             neg   \n",
       "\n",
       "  Blisters  \n",
       "0       no  \n",
       "1       no  \n",
       "2       no  \n",
       "3       no  \n",
       "4       no  "
      ]
     },
     "execution_count": 5,
     "metadata": {},
     "output_type": "execute_result"
    }
   ],
   "source": [
    "import numpy as np\n",
    "import pandas as pd\n",
    "\n",
    "data = pd.read_csv('shingles.csv')\n",
    "print(data.info())\n",
    "data.head()"
   ]
  },
  {
   "cell_type": "markdown",
   "metadata": {
    "deletable": true,
    "editable": true
   },
   "source": [
    "Q.4. Does this data contain any missing values?<br>\n",
    "<i>No values are missing, however, an error is thrown with non numeric values, so remapping</i>"
   ]
  },
  {
   "cell_type": "code",
   "execution_count": 6,
   "metadata": {
    "collapsed": true
   },
   "outputs": [
    {
     "data": {
      "text/plain": [
       "Rash                       0\n",
       "SwollenLymphNode           0\n",
       "Chills                     0\n",
       "PolymeraseChainReaction    0\n",
       "VZVAntibodyTest            0\n",
       "Blisters                   0\n",
       "dtype: int64"
      ]
     },
     "execution_count": 6,
     "metadata": {},
     "output_type": "execute_result"
    }
   ],
   "source": [
    "data.isnull().sum()"
   ]
  },
  {
   "cell_type": "code",
   "execution_count": 7,
   "metadata": {},
   "outputs": [
    {
     "data": {
      "text/plain": [
       "array(['neg', 'no', 'po', 'pos', 'yes'], dtype=object)"
      ]
     },
     "execution_count": 7,
     "metadata": {},
     "output_type": "execute_result"
    }
   ],
   "source": [
    "vals = np.array([])\n",
    "for c in data.columns:\n",
    "    vals = np.append(vals, data[c].unique())\n",
    "np.unique(vals)"
   ]
  },
  {
   "cell_type": "code",
   "execution_count": 8,
   "metadata": {},
   "outputs": [
    {
     "data": {
      "text/html": [
       "<div>\n",
       "<style scoped>\n",
       "    .dataframe tbody tr th:only-of-type {\n",
       "        vertical-align: middle;\n",
       "    }\n",
       "\n",
       "    .dataframe tbody tr th {\n",
       "        vertical-align: top;\n",
       "    }\n",
       "\n",
       "    .dataframe thead th {\n",
       "        text-align: right;\n",
       "    }\n",
       "</style>\n",
       "<table border=\"1\" class=\"dataframe\">\n",
       "  <thead>\n",
       "    <tr style=\"text-align: right;\">\n",
       "      <th></th>\n",
       "      <th>Rash</th>\n",
       "      <th>SwollenLymphNode</th>\n",
       "      <th>Chills</th>\n",
       "      <th>PolymeraseChainReaction</th>\n",
       "      <th>VZVAntibodyTest</th>\n",
       "      <th>Blisters</th>\n",
       "    </tr>\n",
       "  </thead>\n",
       "  <tbody>\n",
       "    <tr>\n",
       "      <th>0</th>\n",
       "      <td>0</td>\n",
       "      <td>0</td>\n",
       "      <td>0</td>\n",
       "      <td>0</td>\n",
       "      <td>1</td>\n",
       "      <td>0</td>\n",
       "    </tr>\n",
       "    <tr>\n",
       "      <th>1</th>\n",
       "      <td>1</td>\n",
       "      <td>0</td>\n",
       "      <td>0</td>\n",
       "      <td>0</td>\n",
       "      <td>0</td>\n",
       "      <td>0</td>\n",
       "    </tr>\n",
       "    <tr>\n",
       "      <th>2</th>\n",
       "      <td>0</td>\n",
       "      <td>0</td>\n",
       "      <td>0</td>\n",
       "      <td>0</td>\n",
       "      <td>0</td>\n",
       "      <td>0</td>\n",
       "    </tr>\n",
       "    <tr>\n",
       "      <th>3</th>\n",
       "      <td>0</td>\n",
       "      <td>0</td>\n",
       "      <td>0</td>\n",
       "      <td>0</td>\n",
       "      <td>0</td>\n",
       "      <td>0</td>\n",
       "    </tr>\n",
       "    <tr>\n",
       "      <th>4</th>\n",
       "      <td>0</td>\n",
       "      <td>0</td>\n",
       "      <td>0</td>\n",
       "      <td>0</td>\n",
       "      <td>0</td>\n",
       "      <td>0</td>\n",
       "    </tr>\n",
       "  </tbody>\n",
       "</table>\n",
       "</div>"
      ],
      "text/plain": [
       "   Rash  SwollenLymphNode  Chills  PolymeraseChainReaction  VZVAntibodyTest  \\\n",
       "0     0                 0       0                        0                1   \n",
       "1     1                 0       0                        0                0   \n",
       "2     0                 0       0                        0                0   \n",
       "3     0                 0       0                        0                0   \n",
       "4     0                 0       0                        0                0   \n",
       "\n",
       "   Blisters  \n",
       "0         0  \n",
       "1         0  \n",
       "2         0  \n",
       "3         0  \n",
       "4         0  "
      ]
     },
     "execution_count": 8,
     "metadata": {},
     "output_type": "execute_result"
    }
   ],
   "source": [
    "xform = {'neg': 0, 'no': 0, 'po': 1, 'pos': 1, 'yes': 1}\n",
    "\n",
    "for c in data.columns:\n",
    "    data[c] = data[c].apply(lambda x: xform[x])\n",
    "\n",
    "data.head()"
   ]
  },
  {
   "cell_type": "markdown",
   "metadata": {
    "deletable": true,
    "editable": true
   },
   "source": [
    "Q.5. Split the data into 70/30 train test"
   ]
  },
  {
   "cell_type": "code",
   "execution_count": 9,
   "metadata": {
    "collapsed": true
   },
   "outputs": [],
   "source": [
    "from sklearn.model_selection import train_test_split"
   ]
  },
  {
   "cell_type": "code",
   "execution_count": 10,
   "metadata": {},
   "outputs": [],
   "source": [
    "x_tr, x_te, y_tr, y_te = train_test_split(data.iloc[:,:5], data.iloc[:,-1], test_size = .3, random_state=314)"
   ]
  },
  {
   "cell_type": "markdown",
   "metadata": {
    "deletable": true,
    "editable": true
   },
   "source": [
    "Q.6. Train a Gaussian Naive Bayes model, a Multinomial Naive Bayes and a Bernoulli Naive Bayes on the dataset. Compute the accuracy for each. Explain your results. <p>\n",
    "<i>The models all have the same accuracy, however, this is not surprising, given that the preprocessor went and changed everything you binaries.  Bernoulli is a special case of multinomial.  </i>"
   ]
  },
  {
   "cell_type": "code",
   "execution_count": 12,
   "metadata": {
    "collapsed": true,
    "deletable": true,
    "editable": true
   },
   "outputs": [],
   "source": [
    "from sklearn.naive_bayes import BernoulliNB, GaussianNB, MultinomialNB\n",
    "from sklearn.metrics import accuracy_score\n",
    "import matplotlib.pyplot as plt"
   ]
  },
  {
   "cell_type": "code",
   "execution_count": 13,
   "metadata": {},
   "outputs": [
    {
     "name": "stdout",
     "output_type": "stream",
     "text": [
      "GaussianNB(priors=None, var_smoothing=1e-09)\n",
      "0.8318264014466547\n"
     ]
    }
   ],
   "source": [
    "#Gaussian\n",
    "gaus_nb = GaussianNB()\n",
    "gaus_nb.fit(x_tr, y_tr)\n",
    "print(gaus_nb)\n",
    "\n",
    "gaus_pr = gaus_nb.predict(x_te)\n",
    "print(accuracy_score(y_te, gaus_pr))"
   ]
  },
  {
   "cell_type": "code",
   "execution_count": 14,
   "metadata": {},
   "outputs": [
    {
     "name": "stdout",
     "output_type": "stream",
     "text": [
      "MultinomialNB(alpha=1e-05, class_prior=None, fit_prior=True)\n",
      "0.8318264014466547\n"
     ]
    }
   ],
   "source": [
    "# Mutlinomial\n",
    "mult_nb = MultinomialNB(alpha=.00001)\n",
    "\n",
    "mult_nb.fit(x_tr, y_tr)\n",
    "print(mult_nb)\n",
    "\n",
    "mult_pr = mult_nb.predict(x_te)\n",
    "print(accuracy_score(y_te, mult_pr))"
   ]
  },
  {
   "cell_type": "code",
   "execution_count": 15,
   "metadata": {},
   "outputs": [
    {
     "name": "stdout",
     "output_type": "stream",
     "text": [
      "BernoulliNB(alpha=1.0, binarize=True, class_prior=None, fit_prior=True)\n",
      "0.8318264014466547\n"
     ]
    }
   ],
   "source": [
    "# Bernoulli\n",
    "bern_nb = BernoulliNB(binarize=True)\n",
    "bern_nb.fit(x_tr, y_tr)\n",
    "print(bern_nb)\n",
    "\n",
    "bern_pr = bern_nb.predict(x_te)\n",
    "print(accuracy_score(y_te, bern_pr))"
   ]
  },
  {
   "cell_type": "markdown",
   "metadata": {
    "deletable": true,
    "editable": true
   },
   "source": [
    "## Inference in Bayesian networks"
   ]
  },
  {
   "cell_type": "markdown",
   "metadata": {
    "deletable": true,
    "editable": true
   },
   "source": [
    "Q.7. Imagine you are at party on Sunday and have an exam on Monday.  If you drink\n",
    "too much alcolhol at the birthday party, you most likely have problems concentrating the next day, which\n",
    "would reduce the probability that you pass the exam.  Another consequence of the reduced concentration\n",
    "might be increased stress with your roommate.\n",
    "\n",
    "Consider the following random variables that can assume the values \"true\" or \"false\":\n",
    "A:  drinking too much alcolhol on Sunday;\n",
    "B:  Dairy allergy strikes;\n",
    "C:  reduced concentration on Monday;\n",
    "D:  you pass the exam;\n",
    "E:  stress with your roommates.\n",
    "\n",
    "a) Draw the corresponding Bayesian network."
   ]
  },
  {
   "cell_type": "code",
   "execution_count": 18,
   "metadata": {},
   "outputs": [],
   "source": [
    "%matplotlib inline"
   ]
  },
  {
   "cell_type": "code",
   "execution_count": 91,
   "metadata": {
    "collapsed": true
   },
   "outputs": [
    {
     "data": {
      "image/png": "[encoded data removed]",
      "text/plain": [
       "<Figure size 432x288 with 1 Axes>"
      ]
     },
     "metadata": {},
     "output_type": "display_data"
    }
   ],
   "source": [
    "ax = plt.gca()\n",
    "ax.add_patch(plt.Circle((0,0), radius=2.5))\n",
    "ax.add_patch(plt.Circle((0,10), radius=2.5))\n",
    "ax.add_patch(plt.Circle((10,0), radius=2.5))\n",
    "ax.add_patch(plt.Circle((10,10), radius=2.5))\n",
    "ax.add_patch(plt.Circle((20,0), radius=2.5))\n",
    "ax.add_patch(plt.Arrow(3,10,4,0))\n",
    "ax.add_patch(plt.Arrow(3,2.5,5,5))\n",
    "ax.add_patch(plt.Arrow(10,7,0,-4))\n",
    "ax.add_patch(plt.Arrow(12.5,7,5,-5))\n",
    "#ax.annotate('A', xy=(0,0))\n",
    "plt.text(-.5,9.5,'A', fontsize='xx-large')\n",
    "plt.text(-.5,-.5,'B', fontsize='xx-large')\n",
    "plt.text(9.5,9.5,'C', fontsize='xx-large')\n",
    "plt.text(9.5,-.5,'D', fontsize='xx-large')\n",
    "plt.text(19.5,-.5,'E', fontsize='xx-large')\n",
    "#plt.text(0,25,'Bayesian Network Map', fontsize=\"xx-large\")\n",
    "plt.title('Bayesian Network Diagram')\n",
    "plt.xticks(ticks=[])\n",
    "plt.yticks(ticks=[])\n",
    "\n",
    "plt.axis('scaled')\n",
    "plt.show()"
   ]
  },
  {
   "cell_type": "markdown",
   "metadata": {},
   "source": [
    "b) Search for conditional dependencies and independencies.<p>\n",
    "<i> Independencies are nodes A and B, with the others all be dependencies.  D is dependent on A and B; D and E are both dependent on C. </i>"
   ]
  }
 ],
 "metadata": {
  "kernelspec": {
   "display_name": "Python 3",
   "language": "python",
   "name": "python3"
  },
  "language_info": {
   "codemirror_mode": {
    "name": "ipython",
    "version": 3
   },
   "file_extension": ".py",
   "mimetype": "text/x-python",
   "name": "python",
   "nbconvert_exporter": "python",
   "pygments_lexer": "ipython3",
   "version": "3.7.1"
  }
 },
 "nbformat": 4,
 "nbformat_minor": 2
}
