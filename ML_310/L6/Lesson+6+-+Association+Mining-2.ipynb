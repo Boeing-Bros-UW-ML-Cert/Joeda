{
 "cells": [
  {
   "cell_type": "markdown",
   "metadata": {},
   "source": [
    "_The main focus of this assignment is Frequent Patternset Mining from theoretical as well as practical perspective_"
   ]
  },
  {
   "cell_type": "markdown",
   "metadata": {},
   "source": [
    "## Problem 1: Association Rule Mining"
   ]
  },
  {
   "cell_type": "markdown",
   "metadata": {},
   "source": [
    "Consider the following dataset"
   ]
  },
  {
   "cell_type": "markdown",
   "metadata": {},
   "source": [
    "{onion, apple, butter, yogurt, eggs, apple} <br>\n",
    "{onion, apple, butter, yogurt, eggs, milk} <br>\n",
    "{eggs, milk, butter, yogurt, eggs, milk} <br>\n",
    "{cheese, milk, butter, yogurt, eggs, milk} <br>\n",
    "{cheese, milk, eggs, milk}"
   ]
  },
  {
   "cell_type": "markdown",
   "metadata": {},
   "source": [
    "- Using the FP-Tree algorithm with min support  = 0.6 and min confidence = 0.75 find all 3-frequent and all 4-frequent items. Show your work.\n",
    "- List 3 frequent item rulesets that can be derived from the previous set\n",
    "- Show that any 3-frequent itemsets can be derived from 2-frequent itemsets"
   ]
  },
  {
   "cell_type": "markdown",
   "metadata": {
    "ExecuteTime": {
     "end_time": "2019-05-21T01:01:05.868238Z",
     "start_time": "2019-05-21T01:01:05.862128Z"
    },
    "collapsed": true
   },
   "source": [
    "_Note: Do not write code to answer this question_"
   ]
  },
  {
   "cell_type": "code",
   "execution_count": 1,
   "metadata": {
    "ExecuteTime": {
     "end_time": "2019-05-21T01:01:45.775866Z",
     "start_time": "2019-05-21T01:01:45.772079Z"
    }
   },
   "outputs": [],
   "source": [
    "## Problem 2: Applications of FP Mining"
   ]
  },
  {
   "cell_type": "markdown",
   "metadata": {},
   "source": [
    "Using the NIS Flanders Traffic Accident Dataset apply Frequent Itemset Mining to identify the road conditions, type of roads associated with accidents. Identify other rules of interest that are associated with accidents or lack thereof. Make a case regarding how you can use these rules to reduce traffic accidents.\n"
   ]
  },
  {
   "cell_type": "code",
   "execution_count": 3,
   "metadata": {
    "ExecuteTime": {
     "end_time": "2019-05-21T01:04:20.834855Z",
     "start_time": "2019-05-21T01:04:20.830867Z"
    }
   },
   "outputs": [],
   "source": [
    "# Load the Relevant libraries\n",
    "import sklearn as sk\n",
    "import urllib\n",
    "import pandas as pd"
   ]
  },
  {
   "cell_type": "code",
   "execution_count": 4,
   "metadata": {
    "ExecuteTime": {
     "end_time": "2019-05-21T01:04:24.425160Z",
     "start_time": "2019-05-21T01:04:24.198003Z"
    }
   },
   "outputs": [],
   "source": [
    "# URL for the Traffic Data (UW Repository)\n",
    "# link for dataset description http://fimi.uantwerpen.be/data/accidents.pdf\n",
    "#url = \"NISTraffic.csv\"\n",
    "url = \"file:///'C|Users/ricej/Documents/GitHub/Joeda/ML_310/L6/NISTraffic.csv\"\n",
    "# download the file\n",
    "raw_data = urllib.request.urlopen(url)"
   ]
  },
  {
   "cell_type": "code",
   "execution_count": 16,
   "metadata": {
    "ExecuteTime": {
     "end_time": "2019-05-21T01:15:19.647942Z",
     "start_time": "2019-05-21T01:15:18.721554Z"
    }
   },
   "outputs": [],
   "source": [
    "D = []\n",
    "T = []\n",
    "W = []\n",
    "\"\"\"Compute candidate 1-itemset\"\"\"\n",
    "C1 = {}\n",
    "\"\"\"total number of transactions contained in the file\"\"\"\n",
    "transactions = 0\n",
    "txn_cap = 100\n",
    "with open(\"NISTraffic.csv\", \"r\") as f:\n",
    "    for line in f:\n",
    "        T = []\n",
    "        transactions += 1  \n",
    "        if transactions <= txn_cap:\n",
    "            for word in line.split(\",\"):\n",
    "                if word != '' and word != '\\n':\n",
    "                    W.append(word)\n",
    "                    T.append(str(\"F\"+word))\n",
    "                    if word not in C1.keys():\n",
    "                        C1[word] = 1\n",
    "                    else:\n",
    "                        count = C1[word]\n",
    "                        C1[word] = count + 1\n",
    "        D.append(T)"
   ]
  },
  {
   "cell_type": "code",
   "execution_count": 6,
   "metadata": {
    "ExecuteTime": {
     "end_time": "2019-05-21T01:04:27.328129Z",
     "start_time": "2019-05-21T01:04:27.323127Z"
    }
   },
   "outputs": [],
   "source": [
    "import mlxtend\n",
    "from mlxtend.preprocessing import TransactionEncoder\n",
    "from mlxtend.frequent_patterns import apriori"
   ]
  },
  {
   "cell_type": "code",
   "execution_count": 7,
   "metadata": {
    "ExecuteTime": {
     "end_time": "2019-05-21T01:04:29.769147Z",
     "start_time": "2019-05-21T01:04:29.746114Z"
    }
   },
   "outputs": [],
   "source": [
    "D = D[:100]"
   ]
  },
  {
   "cell_type": "code",
   "execution_count": 8,
   "metadata": {
    "ExecuteTime": {
     "end_time": "2019-05-21T01:04:31.341830Z",
     "start_time": "2019-05-21T01:04:31.332882Z"
    }
   },
   "outputs": [],
   "source": [
    "te = TransactionEncoder()\n",
    "te_ary = te.fit(D).transform(D)\n",
    "df = pd.DataFrame(te_ary, columns=te.columns_)"
   ]
  },
  {
   "cell_type": "code",
   "execution_count": 9,
   "metadata": {
    "ExecuteTime": {
     "end_time": "2019-05-21T01:04:32.383207Z",
     "start_time": "2019-05-21T01:04:32.366463Z"
    }
   },
   "outputs": [
    {
     "data": {
      "text/plain": [
       "(100, 168)"
      ]
     },
     "execution_count": 9,
     "metadata": {},
     "output_type": "execute_result"
    }
   ],
   "source": [
    "df.shape"
   ]
  },
  {
   "cell_type": "code",
   "execution_count": 11,
   "metadata": {
    "ExecuteTime": {
     "end_time": "2019-05-21T01:07:06.159354Z",
     "start_time": "2019-05-21T01:07:06.117508Z"
    }
   },
   "outputs": [
    {
     "data": {
      "text/plain": [
       "(47, 2)"
      ]
     },
     "execution_count": 11,
     "metadata": {},
     "output_type": "execute_result"
    }
   ],
   "source": [
    "frequent_itemsets = apriori(df, min_support=0.9, use_colnames=False)\n",
    "frequent_itemsets.shape"
   ]
  },
  {
   "cell_type": "code",
   "execution_count": 12,
   "metadata": {
    "ExecuteTime": {
     "end_time": "2019-05-21T01:07:11.964781Z",
     "start_time": "2019-05-21T01:07:11.923960Z"
    }
   },
   "outputs": [
    {
     "data": {
      "text/html": [
       "<div>\n",
       "<style scoped>\n",
       "    .dataframe tbody tr th:only-of-type {\n",
       "        vertical-align: middle;\n",
       "    }\n",
       "\n",
       "    .dataframe tbody tr th {\n",
       "        vertical-align: top;\n",
       "    }\n",
       "\n",
       "    .dataframe thead th {\n",
       "        text-align: right;\n",
       "    }\n",
       "</style>\n",
       "<table border=\"1\" class=\"dataframe\">\n",
       "  <thead>\n",
       "    <tr style=\"text-align: right;\">\n",
       "      <th></th>\n",
       "      <th>support</th>\n",
       "      <th>itemsets</th>\n",
       "    </tr>\n",
       "  </thead>\n",
       "  <tbody>\n",
       "    <tr>\n",
       "      <th>0</th>\n",
       "      <td>1.00</td>\n",
       "      <td>(23)</td>\n",
       "    </tr>\n",
       "    <tr>\n",
       "      <th>1</th>\n",
       "      <td>0.97</td>\n",
       "      <td>(67)</td>\n",
       "    </tr>\n",
       "    <tr>\n",
       "      <th>2</th>\n",
       "      <td>1.00</td>\n",
       "      <td>(77)</td>\n",
       "    </tr>\n",
       "    <tr>\n",
       "      <th>3</th>\n",
       "      <td>1.00</td>\n",
       "      <td>(78)</td>\n",
       "    </tr>\n",
       "    <tr>\n",
       "      <th>4</th>\n",
       "      <td>0.94</td>\n",
       "      <td>(82)</td>\n",
       "    </tr>\n",
       "    <tr>\n",
       "      <th>5</th>\n",
       "      <td>0.92</td>\n",
       "      <td>(90)</td>\n",
       "    </tr>\n",
       "    <tr>\n",
       "      <th>6</th>\n",
       "      <td>0.90</td>\n",
       "      <td>(106)</td>\n",
       "    </tr>\n",
       "    <tr>\n",
       "      <th>7</th>\n",
       "      <td>0.97</td>\n",
       "      <td>(67, 23)</td>\n",
       "    </tr>\n",
       "    <tr>\n",
       "      <th>8</th>\n",
       "      <td>1.00</td>\n",
       "      <td>(77, 23)</td>\n",
       "    </tr>\n",
       "    <tr>\n",
       "      <th>9</th>\n",
       "      <td>1.00</td>\n",
       "      <td>(78, 23)</td>\n",
       "    </tr>\n",
       "    <tr>\n",
       "      <th>10</th>\n",
       "      <td>0.94</td>\n",
       "      <td>(82, 23)</td>\n",
       "    </tr>\n",
       "    <tr>\n",
       "      <th>11</th>\n",
       "      <td>0.92</td>\n",
       "      <td>(90, 23)</td>\n",
       "    </tr>\n",
       "    <tr>\n",
       "      <th>12</th>\n",
       "      <td>0.90</td>\n",
       "      <td>(106, 23)</td>\n",
       "    </tr>\n",
       "    <tr>\n",
       "      <th>13</th>\n",
       "      <td>0.97</td>\n",
       "      <td>(67, 77)</td>\n",
       "    </tr>\n",
       "    <tr>\n",
       "      <th>14</th>\n",
       "      <td>0.97</td>\n",
       "      <td>(67, 78)</td>\n",
       "    </tr>\n",
       "    <tr>\n",
       "      <th>15</th>\n",
       "      <td>0.91</td>\n",
       "      <td>(82, 67)</td>\n",
       "    </tr>\n",
       "    <tr>\n",
       "      <th>16</th>\n",
       "      <td>1.00</td>\n",
       "      <td>(77, 78)</td>\n",
       "    </tr>\n",
       "    <tr>\n",
       "      <th>17</th>\n",
       "      <td>0.94</td>\n",
       "      <td>(82, 77)</td>\n",
       "    </tr>\n",
       "    <tr>\n",
       "      <th>18</th>\n",
       "      <td>0.92</td>\n",
       "      <td>(90, 77)</td>\n",
       "    </tr>\n",
       "    <tr>\n",
       "      <th>19</th>\n",
       "      <td>0.90</td>\n",
       "      <td>(106, 77)</td>\n",
       "    </tr>\n",
       "    <tr>\n",
       "      <th>20</th>\n",
       "      <td>0.94</td>\n",
       "      <td>(82, 78)</td>\n",
       "    </tr>\n",
       "    <tr>\n",
       "      <th>21</th>\n",
       "      <td>0.92</td>\n",
       "      <td>(90, 78)</td>\n",
       "    </tr>\n",
       "    <tr>\n",
       "      <th>22</th>\n",
       "      <td>0.90</td>\n",
       "      <td>(106, 78)</td>\n",
       "    </tr>\n",
       "    <tr>\n",
       "      <th>23</th>\n",
       "      <td>0.97</td>\n",
       "      <td>(67, 77, 23)</td>\n",
       "    </tr>\n",
       "    <tr>\n",
       "      <th>24</th>\n",
       "      <td>0.97</td>\n",
       "      <td>(67, 78, 23)</td>\n",
       "    </tr>\n",
       "    <tr>\n",
       "      <th>25</th>\n",
       "      <td>0.91</td>\n",
       "      <td>(82, 67, 23)</td>\n",
       "    </tr>\n",
       "    <tr>\n",
       "      <th>26</th>\n",
       "      <td>1.00</td>\n",
       "      <td>(77, 78, 23)</td>\n",
       "    </tr>\n",
       "    <tr>\n",
       "      <th>27</th>\n",
       "      <td>0.94</td>\n",
       "      <td>(82, 77, 23)</td>\n",
       "    </tr>\n",
       "    <tr>\n",
       "      <th>28</th>\n",
       "      <td>0.92</td>\n",
       "      <td>(90, 77, 23)</td>\n",
       "    </tr>\n",
       "    <tr>\n",
       "      <th>29</th>\n",
       "      <td>0.90</td>\n",
       "      <td>(106, 77, 23)</td>\n",
       "    </tr>\n",
       "    <tr>\n",
       "      <th>30</th>\n",
       "      <td>0.94</td>\n",
       "      <td>(82, 78, 23)</td>\n",
       "    </tr>\n",
       "    <tr>\n",
       "      <th>31</th>\n",
       "      <td>0.92</td>\n",
       "      <td>(90, 78, 23)</td>\n",
       "    </tr>\n",
       "    <tr>\n",
       "      <th>32</th>\n",
       "      <td>0.90</td>\n",
       "      <td>(106, 78, 23)</td>\n",
       "    </tr>\n",
       "    <tr>\n",
       "      <th>33</th>\n",
       "      <td>0.97</td>\n",
       "      <td>(67, 77, 78)</td>\n",
       "    </tr>\n",
       "    <tr>\n",
       "      <th>34</th>\n",
       "      <td>0.91</td>\n",
       "      <td>(82, 67, 77)</td>\n",
       "    </tr>\n",
       "    <tr>\n",
       "      <th>35</th>\n",
       "      <td>0.91</td>\n",
       "      <td>(82, 67, 78)</td>\n",
       "    </tr>\n",
       "    <tr>\n",
       "      <th>36</th>\n",
       "      <td>0.94</td>\n",
       "      <td>(82, 77, 78)</td>\n",
       "    </tr>\n",
       "    <tr>\n",
       "      <th>37</th>\n",
       "      <td>0.92</td>\n",
       "      <td>(90, 77, 78)</td>\n",
       "    </tr>\n",
       "    <tr>\n",
       "      <th>38</th>\n",
       "      <td>0.90</td>\n",
       "      <td>(106, 77, 78)</td>\n",
       "    </tr>\n",
       "    <tr>\n",
       "      <th>39</th>\n",
       "      <td>0.97</td>\n",
       "      <td>(67, 77, 78, 23)</td>\n",
       "    </tr>\n",
       "    <tr>\n",
       "      <th>40</th>\n",
       "      <td>0.91</td>\n",
       "      <td>(82, 67, 77, 23)</td>\n",
       "    </tr>\n",
       "    <tr>\n",
       "      <th>41</th>\n",
       "      <td>0.91</td>\n",
       "      <td>(82, 67, 78, 23)</td>\n",
       "    </tr>\n",
       "    <tr>\n",
       "      <th>42</th>\n",
       "      <td>0.94</td>\n",
       "      <td>(82, 77, 78, 23)</td>\n",
       "    </tr>\n",
       "    <tr>\n",
       "      <th>43</th>\n",
       "      <td>0.92</td>\n",
       "      <td>(90, 77, 78, 23)</td>\n",
       "    </tr>\n",
       "    <tr>\n",
       "      <th>44</th>\n",
       "      <td>0.90</td>\n",
       "      <td>(106, 77, 78, 23)</td>\n",
       "    </tr>\n",
       "    <tr>\n",
       "      <th>45</th>\n",
       "      <td>0.91</td>\n",
       "      <td>(82, 67, 77, 78)</td>\n",
       "    </tr>\n",
       "    <tr>\n",
       "      <th>46</th>\n",
       "      <td>0.91</td>\n",
       "      <td>(67, 77, 78, 82, 23)</td>\n",
       "    </tr>\n",
       "  </tbody>\n",
       "</table>\n",
       "</div>"
      ],
      "text/plain": [
       "    support              itemsets\n",
       "0      1.00                  (23)\n",
       "1      0.97                  (67)\n",
       "2      1.00                  (77)\n",
       "3      1.00                  (78)\n",
       "4      0.94                  (82)\n",
       "5      0.92                  (90)\n",
       "6      0.90                 (106)\n",
       "7      0.97              (67, 23)\n",
       "8      1.00              (77, 23)\n",
       "9      1.00              (78, 23)\n",
       "10     0.94              (82, 23)\n",
       "11     0.92              (90, 23)\n",
       "12     0.90             (106, 23)\n",
       "13     0.97              (67, 77)\n",
       "14     0.97              (67, 78)\n",
       "15     0.91              (82, 67)\n",
       "16     1.00              (77, 78)\n",
       "17     0.94              (82, 77)\n",
       "18     0.92              (90, 77)\n",
       "19     0.90             (106, 77)\n",
       "20     0.94              (82, 78)\n",
       "21     0.92              (90, 78)\n",
       "22     0.90             (106, 78)\n",
       "23     0.97          (67, 77, 23)\n",
       "24     0.97          (67, 78, 23)\n",
       "25     0.91          (82, 67, 23)\n",
       "26     1.00          (77, 78, 23)\n",
       "27     0.94          (82, 77, 23)\n",
       "28     0.92          (90, 77, 23)\n",
       "29     0.90         (106, 77, 23)\n",
       "30     0.94          (82, 78, 23)\n",
       "31     0.92          (90, 78, 23)\n",
       "32     0.90         (106, 78, 23)\n",
       "33     0.97          (67, 77, 78)\n",
       "34     0.91          (82, 67, 77)\n",
       "35     0.91          (82, 67, 78)\n",
       "36     0.94          (82, 77, 78)\n",
       "37     0.92          (90, 77, 78)\n",
       "38     0.90         (106, 77, 78)\n",
       "39     0.97      (67, 77, 78, 23)\n",
       "40     0.91      (82, 67, 77, 23)\n",
       "41     0.91      (82, 67, 78, 23)\n",
       "42     0.94      (82, 77, 78, 23)\n",
       "43     0.92      (90, 77, 78, 23)\n",
       "44     0.90     (106, 77, 78, 23)\n",
       "45     0.91      (82, 67, 77, 78)\n",
       "46     0.91  (67, 77, 78, 82, 23)"
      ]
     },
     "execution_count": 12,
     "metadata": {},
     "output_type": "execute_result"
    }
   ],
   "source": [
    "frequent_itemsets"
   ]
  },
  {
   "cell_type": "code",
   "execution_count": null,
   "metadata": {},
   "outputs": [],
   "source": [
    "# do a few random samples and see what rules seem to rise to the top consistently"
   ]
  }
 ],
 "metadata": {
  "kernelspec": {
   "display_name": "Python 3",
   "language": "python",
   "name": "python3"
  },
  "language_info": {
   "codemirror_mode": {
    "name": "ipython",
    "version": 3
   },
   "file_extension": ".py",
   "mimetype": "text/x-python",
   "name": "python",
   "nbconvert_exporter": "python",
   "pygments_lexer": "ipython3",
   "version": "3.7.1"
  },
  "toc": {
   "base_numbering": 1,
   "nav_menu": {},
   "number_sections": true,
   "sideBar": true,
   "skip_h1_title": false,
   "title_cell": "Table of Contents",
   "title_sidebar": "Contents",
   "toc_cell": false,
   "toc_position": {},
   "toc_section_display": true,
   "toc_window_display": false
  }
 },
 "nbformat": 4,
 "nbformat_minor": 1
}
