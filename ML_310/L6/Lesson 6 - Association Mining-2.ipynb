{
 "cells": [
  {
   "cell_type": "markdown",
   "metadata": {},
   "source": [
    "_The main focus of this assignment is Frequent Patternset Mining from theoretical as well as practical perspective_"
   ]
  },
  {
   "cell_type": "markdown",
   "metadata": {},
   "source": [
    "## Problem 1: Association Rule Mining"
   ]
  },
  {
   "cell_type": "markdown",
   "metadata": {},
   "source": [
    "Consider the following dataset"
   ]
  },
  {
   "cell_type": "markdown",
   "metadata": {},
   "source": [
    "{onion, apple, butter, yogurt, eggs, apple} <br>\n",
    "{onion, apple, butter, yogurt, eggs, milk} <br>\n",
    "{eggs, milk, butter, yogurt, eggs, milk} <br>\n",
    "{cheese, milk, butter, yogurt, eggs, milk} <br>\n",
    "{cheese, milk, eggs, milk}"
   ]
  },
  {
   "cell_type": "markdown",
   "metadata": {},
   "source": [
    "- Using the FP-Tree algorithm with min support  = 0.6 and min confidence = 0.75 find all 3-frequent and all 4-frequent items. Show your work.\n",
    "- List 3 frequent item rulesets that can be derived from the previous set\n",
    "- Show that any 3-frequent itemsets can be derived from 2-frequent itemsets"
   ]
  },
  {
   "cell_type": "code",
   "execution_count": 0,
   "metadata": {},
   "outputs": [],
   "source": [
    "_Note: Do not write code to answer this question_"
   ]
  },
  {
   "cell_type": "code",
   "execution_count": 0,
   "metadata": {},
   "outputs": [],
   "source": [
    "## Problem 2: Applications of FP Mining"
   ]
  },
  {
   "cell_type": "markdown",
   "metadata": {},
   "source": [
    "Using the NIS Flanders Traffic Accident Dataset apply Frequent Itemset Mining to identify the road conditions, type of roads associated with accidents. Identify other rules of interest that are associated with accidents or lack thereof. Make a case regarding how you can use these rules to reduce traffic accidents.\n"
   ]
  },
  {
   "cell_type": "code",
   "execution_count": 1,
   "metadata": {
    "ExecuteTime": {
     "end_time": "2019-05-20T23:57:55.172462Z",
     "start_time": "2019-05-20T23:57:54.846258Z"
    }
   },
   "outputs": [],
   "source": [
    "# Load the Relevant libraries\n",
    "import sklearn as sk\n",
    "import urllib\n",
    "\n",
    "# URL for the Traffic Data (UW Repository)\n",
    "url = \"file:///'C|Users/ricej/Documents/GitHub/Joeda/ML_310/L6/NISTraffic.csv\"\n",
    "\n",
    "# download the file\n",
    "raw_data = urllib.request.urlopen(url)"
   ]
  },
  {
   "cell_type": "code",
   "execution_count": 2,
   "metadata": {
    "ExecuteTime": {
     "end_time": "2019-05-20T23:57:55.486146Z",
     "start_time": "2019-05-20T23:57:55.177449Z"
    }
   },
   "outputs": [],
   "source": [
    "import pandas as pd"
   ]
  },
  {
   "cell_type": "code",
   "execution_count": 3,
   "metadata": {
    "ExecuteTime": {
     "end_time": "2019-05-20T23:58:02.508392Z",
     "start_time": "2019-05-20T23:57:55.488141Z"
    }
   },
   "outputs": [],
   "source": [
    "data = pd.read_csv(raw_data, header=None)"
   ]
  },
  {
   "cell_type": "code",
   "execution_count": 4,
   "metadata": {
    "ExecuteTime": {
     "end_time": "2019-05-20T23:58:02.533297Z",
     "start_time": "2019-05-20T23:58:02.514375Z"
    }
   },
   "outputs": [
    {
     "data": {
      "text/plain": [
       "(340183, 51)"
      ]
     },
     "execution_count": 4,
     "metadata": {},
     "output_type": "execute_result"
    }
   ],
   "source": [
    "data.shape"
   ]
  },
  {
   "cell_type": "code",
   "execution_count": null,
   "metadata": {},
   "outputs": [],
   "source": []
  }
 ],
 "metadata": {
  "kernelspec": {
   "display_name": "Python 3",
   "language": "python",
   "name": "python3"
  },
  "language_info": {
   "codemirror_mode": {
    "name": "ipython",
    "version": 3
   },
   "file_extension": ".py",
   "mimetype": "text/x-python",
   "name": "python",
   "nbconvert_exporter": "python",
   "pygments_lexer": "ipython3",
   "version": "3.7.1"
  },
  "toc": {
   "base_numbering": 1,
   "nav_menu": {},
   "number_sections": true,
   "sideBar": true,
   "skip_h1_title": false,
   "title_cell": "Table of Contents",
   "title_sidebar": "Contents",
   "toc_cell": false,
   "toc_position": {},
   "toc_section_display": true,
   "toc_window_display": false
  }
 },
 "nbformat": 4,
 "nbformat_minor": 1
}
